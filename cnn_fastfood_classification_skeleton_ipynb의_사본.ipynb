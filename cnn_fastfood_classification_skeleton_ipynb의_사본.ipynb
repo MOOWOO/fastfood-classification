{
  "cells": [
    {
      "cell_type": "markdown",
      "metadata": {
        "id": "view-in-github",
        "colab_type": "text"
      },
      "source": [
        "<a href=\"https://colab.research.google.com/github/MOOWOO/fastfood-classification/blob/main/cnn_fastfood_classification_skeleton_ipynb%EC%9D%98_%EC%82%AC%EB%B3%B8.ipynb\" target=\"_parent\"><img src=\"https://colab.research.google.com/assets/colab-badge.svg\" alt=\"Open In Colab\"/></a>"
      ]
    },
    {
      "cell_type": "markdown",
      "metadata": {
        "id": "ETEN8KLExPbn"
      },
      "source": [
        "#Set up Environment & Prepare the Dataset"
      ]
    },
    {
      "cell_type": "code",
      "source": [
        "# Set up Environment & Prepare the Dataset\n",
        "!pip install torch torchvision torchaudio transformers"
      ],
      "metadata": {
        "colab": {
          "base_uri": "https://localhost:8080/"
        },
        "id": "AXHGK8WA2ifW",
        "outputId": "282bad18-dfca-449c-96ae-32d6a1071b43"
      },
      "execution_count": null,
      "outputs": [
        {
          "output_type": "stream",
          "name": "stdout",
          "text": [
            "Requirement already satisfied: torch in /usr/local/lib/python3.10/dist-packages (2.4.1+cu121)\n",
            "Requirement already satisfied: torchvision in /usr/local/lib/python3.10/dist-packages (0.19.1+cu121)\n",
            "Requirement already satisfied: torchaudio in /usr/local/lib/python3.10/dist-packages (2.4.1+cu121)\n",
            "Requirement already satisfied: transformers in /usr/local/lib/python3.10/dist-packages (4.44.2)\n",
            "Requirement already satisfied: filelock in /usr/local/lib/python3.10/dist-packages (from torch) (3.16.1)\n",
            "Requirement already satisfied: typing-extensions>=4.8.0 in /usr/local/lib/python3.10/dist-packages (from torch) (4.12.2)\n",
            "Requirement already satisfied: sympy in /usr/local/lib/python3.10/dist-packages (from torch) (1.13.3)\n",
            "Requirement already satisfied: networkx in /usr/local/lib/python3.10/dist-packages (from torch) (3.4)\n",
            "Requirement already satisfied: jinja2 in /usr/local/lib/python3.10/dist-packages (from torch) (3.1.4)\n",
            "Requirement already satisfied: fsspec in /usr/local/lib/python3.10/dist-packages (from torch) (2024.6.1)\n",
            "Requirement already satisfied: numpy in /usr/local/lib/python3.10/dist-packages (from torchvision) (1.26.4)\n",
            "Requirement already satisfied: pillow!=8.3.*,>=5.3.0 in /usr/local/lib/python3.10/dist-packages (from torchvision) (10.4.0)\n",
            "Requirement already satisfied: huggingface-hub<1.0,>=0.23.2 in /usr/local/lib/python3.10/dist-packages (from transformers) (0.24.7)\n",
            "Requirement already satisfied: packaging>=20.0 in /usr/local/lib/python3.10/dist-packages (from transformers) (24.1)\n",
            "Requirement already satisfied: pyyaml>=5.1 in /usr/local/lib/python3.10/dist-packages (from transformers) (6.0.2)\n",
            "Requirement already satisfied: regex!=2019.12.17 in /usr/local/lib/python3.10/dist-packages (from transformers) (2024.9.11)\n",
            "Requirement already satisfied: requests in /usr/local/lib/python3.10/dist-packages (from transformers) (2.32.3)\n",
            "Requirement already satisfied: safetensors>=0.4.1 in /usr/local/lib/python3.10/dist-packages (from transformers) (0.4.5)\n",
            "Requirement already satisfied: tokenizers<0.20,>=0.19 in /usr/local/lib/python3.10/dist-packages (from transformers) (0.19.1)\n",
            "Requirement already satisfied: tqdm>=4.27 in /usr/local/lib/python3.10/dist-packages (from transformers) (4.66.5)\n",
            "Requirement already satisfied: MarkupSafe>=2.0 in /usr/local/lib/python3.10/dist-packages (from jinja2->torch) (3.0.1)\n",
            "Requirement already satisfied: charset-normalizer<4,>=2 in /usr/local/lib/python3.10/dist-packages (from requests->transformers) (3.4.0)\n",
            "Requirement already satisfied: idna<4,>=2.5 in /usr/local/lib/python3.10/dist-packages (from requests->transformers) (3.10)\n",
            "Requirement already satisfied: urllib3<3,>=1.21.1 in /usr/local/lib/python3.10/dist-packages (from requests->transformers) (2.2.3)\n",
            "Requirement already satisfied: certifi>=2017.4.17 in /usr/local/lib/python3.10/dist-packages (from requests->transformers) (2024.8.30)\n",
            "Requirement already satisfied: mpmath<1.4,>=1.1.0 in /usr/local/lib/python3.10/dist-packages (from sympy->torch) (1.3.0)\n"
          ]
        }
      ]
    },
    {
      "cell_type": "code",
      "execution_count": null,
      "metadata": {
        "id": "IgZGzjdKxPbt"
      },
      "outputs": [],
      "source": [
        "# Import necessary libraries\n",
        "import os\n",
        "import numpy as np\n",
        "import pandas as pd\n",
        "import torch\n",
        "import torch.nn as nn\n",
        "import torch.optim as optim\n",
        "from torch.utils.data import DataLoader, TensorDataset\n",
        "from PIL import Image\n",
        "from transformers import ConvNextForImageClassification, ConvNextImageProcessor\n",
        "from torchvision import transforms\n",
        "import matplotlib.pyplot as plt\n",
        "import seaborn as sns\n",
        "from sklearn.model_selection import train_test_split\n",
        "from tensorflow.keras.preprocessing.image import ImageDataGenerator\n",
        "from sklearn.utils.class_weight import compute_class_weight\n",
        "import zipfile\n",
        "from google.colab import drive\n",
        "import cv2\n",
        "%matplotlib inline"
      ]
    },
    {
      "cell_type": "code",
      "execution_count": null,
      "metadata": {
        "colab": {
          "base_uri": "https://localhost:8080/"
        },
        "id": "X9eMp9hKZmOl",
        "outputId": "6dffca11-8f5a-4ebf-9027-d4bf76e845d9"
      },
      "outputs": [
        {
          "output_type": "stream",
          "name": "stdout",
          "text": [
            "Using device: cuda\n",
            "Mounted at /content/drive\n"
          ]
        }
      ],
      "source": [
        "# Check if GPU is available\n",
        "device = torch.device(\"cuda\" if torch.cuda.is_available() else \"cpu\")\n",
        "print(f\"Using device: {device}\")\n",
        "\n",
        "# Mount Google Drive\n",
        "drive.mount('/content/drive')"
      ]
    },
    {
      "cell_type": "code",
      "execution_count": null,
      "metadata": {
        "id": "k1XQZQUm72yF"
      },
      "outputs": [],
      "source": [
        "# Define utility functions\n",
        "def extract_zip(filename, input_path, output_base_path):\n",
        "    output_path = os.path.join(output_base_path, filename)\n",
        "    os.makedirs(output_path, exist_ok=True)\n",
        "    with zipfile.ZipFile(input_path, 'r') as zip_file:\n",
        "        zip_file.extractall(output_path)\n",
        "    print(f\"Extracted {filename}.zip to {output_path}.\")\n",
        "\n",
        "def get_classes_for_dataset(filename, base_path):\n",
        "    data_path = os.path.join(base_path, filename)\n",
        "    classes = sorted(os.listdir(data_path))\n",
        "    classes_dict = {i: item for i, item in enumerate(classes)}\n",
        "    classes_rev = {value: key for key, value in classes_dict.items()}\n",
        "    return classes_dict, classes_rev"
      ]
    },
    {
      "cell_type": "code",
      "execution_count": null,
      "metadata": {
        "id": "B4q7TC4OxPbw",
        "colab": {
          "base_uri": "https://localhost:8080/"
        },
        "outputId": "7577815b-d0d0-4671-8eb1-854f79710a9d"
      },
      "outputs": [
        {
          "output_type": "stream",
          "name": "stdout",
          "text": [
            "Extracted Train.zip to ./data/Train.\n",
            "Extracted Test.zip to ./data/Test.\n"
          ]
        }
      ],
      "source": [
        "# Dataset paths\n",
        "source_path = '/content/drive/MyDrive/fastfood'\n",
        "target_base_path = './data'\n",
        "train_filename = \"Train\"\n",
        "test_filename = \"Test\"\n",
        "\n",
        "# Extract Train and Test datasets\n",
        "extract_zip(train_filename, os.path.join(source_path, train_filename + \".zip\"), target_base_path)\n",
        "extract_zip(test_filename, os.path.join(source_path, test_filename + \".zip\"), target_base_path)\n",
        "\n",
        "# Load classes and map them\n",
        "train_classes, train_classes_rev = get_classes_for_dataset(train_filename, target_base_path)\n"
      ]
    },
    {
      "cell_type": "code",
      "execution_count": null,
      "metadata": {
        "id": "5rcifaD9hH68"
      },
      "outputs": [],
      "source": [
        "# Preprocess the dataset\n",
        "# def preprocess_data(data_dir, class_rev, image_size=(224, 224)):\n",
        "#     data, labels = [], []\n",
        "#     for class_name, class_idx in class_rev.items():\n",
        "#         img_dir = os.path.join(data_dir, class_name)\n",
        "#         for image_name in os.listdir(img_dir):\n",
        "#             img = Image.open(os.path.join(img_dir, image_name)).convert(\"RGB\").resize(image_size)\n",
        "#             data.append(np.array(img).astype('float32') / 255)\n",
        "#             labels.append(class_idx)\n",
        "#     return np.array(data), np.array(labels)\n"
      ]
    },
    {
      "cell_type": "code",
      "source": [
        "# 경계선 탐지 함수\n",
        "def apply_edge_detection(image):\n",
        "    gray = cv2.cvtColor(image, cv2.COLOR_RGB2GRAY)  # PIL 이미지는 RGB로 가져오므로 적절히 변환\n",
        "    edges = cv2.Canny(gray, 100, 200)\n",
        "    return edges\n",
        "\n",
        "# 데이터 전처리 함수 (경계선 탐지 포함)\n",
        "def preprocess_data(data_dir, class_rev, image_size=(224, 224), apply_edge=False):\n",
        "    data, labels = [], []\n",
        "\n",
        "    for class_name, class_idx in class_rev.items():\n",
        "        img_dir = os.path.join(data_dir, class_name)\n",
        "\n",
        "        # 디렉터리 내의 각 이미지를 읽고 처리\n",
        "        for image_name in os.listdir(img_dir):\n",
        "            img_path = os.path.join(img_dir, image_name)\n",
        "\n",
        "            # 이미지 열기, RGB로 변환 후 리사이즈\n",
        "            img = Image.open(img_path).convert(\"RGB\").resize(image_size)\n",
        "            img_array = np.array(img).astype('float32') / 255  # 이미지를 NumPy 배열로 변환\n",
        "\n",
        "            # apply_edge 플래그에 따라 경계선 탐지 적용\n",
        "            if apply_edge:\n",
        "                # 경계선 탐지를 적용하려면 OpenCV용 형식으로 변환한 뒤 적용\n",
        "                img_array = apply_edge_detection(np.uint8(img_array * 255))  # 255 배율로 다시 이미지 복원\n",
        "                img_array = img_array.astype('float32') / 255  # 다시 float32로 변환하여 스케일링\n",
        "\n",
        "                # 경계선 이미지를 채널 추가로 확장 (Canny 결과는 단일 채널이므로 RGB로 맞추기 위해 3채널로 확장)\n",
        "                img_array = np.stack([img_array] * 3, axis=-1)\n",
        "\n",
        "            data.append(img_array)\n",
        "            labels.append(class_idx)\n",
        "\n",
        "    return np.array(data), np.array(labels)"
      ],
      "metadata": {
        "id": "1ea0nv_CjYvW"
      },
      "execution_count": null,
      "outputs": []
    },
    {
      "cell_type": "code",
      "execution_count": null,
      "metadata": {
        "id": "XFBGX3-5900x",
        "colab": {
          "base_uri": "https://localhost:8080/"
        },
        "outputId": "48175d31-374b-4cbd-ddb8-901c6d463151"
      },
      "outputs": [
        {
          "output_type": "stream",
          "name": "stderr",
          "text": [
            "/usr/local/lib/python3.10/dist-packages/PIL/Image.py:1056: UserWarning: Palette images with Transparency expressed in bytes should be converted to RGBA images\n",
            "  warnings.warn(\n"
          ]
        }
      ],
      "source": [
        "data, labels = preprocess_data(os.path.join(target_base_path, train_filename), train_classes_rev)\n"
      ]
    },
    {
      "cell_type": "code",
      "source": [
        "# **Plot class distribution**\n",
        "def plot_class_distribution(labels, class_mapping):\n",
        "    train_label_str = [key for label_int in labels.tolist() for key, value in class_mapping.items() if value == label_int]\n",
        "    df_train_label = pd.DataFrame(train_label_str, columns=['label'])\n",
        "    plt.figure(figsize=(10, 6))\n",
        "    ax = sns.countplot(x='label', data=df_train_label, order=list(class_mapping.keys()))\n",
        "    ax.set_title('Train Label Distribution')\n",
        "    plt.xticks(rotation=45, ha=\"right\")\n",
        "    plt.show()"
      ],
      "metadata": {
        "id": "DHsvopVALmsa"
      },
      "execution_count": null,
      "outputs": []
    },
    {
      "cell_type": "code",
      "source": [
        "# Call plot function to visualize label distribution\n",
        "plot_class_distribution(labels, train_classes_rev)"
      ],
      "metadata": {
        "id": "-TthVGmfLp-w",
        "colab": {
          "base_uri": "https://localhost:8080/",
          "height": 633
        },
        "outputId": "d574ee45-8049-4a51-eb63-eaa5b7111288"
      },
      "execution_count": null,
      "outputs": [
        {
          "output_type": "display_data",
          "data": {
            "text/plain": [
              "<Figure size 1000x600 with 1 Axes>"
            ],
            "image/png": "[encoded data removed]"
          },
          "metadata": {}
        }
      ]
    },
    {
      "cell_type": "code",
      "source": [
        "# Data augmentation using ImageDataGenerator\n",
        "def augment_data(X_train, y_train):\n",
        "    # Ensure the input data has the right dimensions (batch_size, height, width, channels)\n",
        "    if X_train.ndim == 3:\n",
        "        X_train = np.expand_dims(X_train, axis=-1)  # If the data is missing the channel dimension, add it\n",
        "\n",
        "    generator = ImageDataGenerator(\n",
        "        rotation_range=20,\n",
        "        width_shift_range=0.2,\n",
        "        height_shift_range=0.2,\n",
        "        horizontal_flip=True,\n",
        "        zoom_range=0.2,\n",
        "        shear_range=0.1,\n",
        "    )\n",
        "\n",
        "    # Fit the generator to the data\n",
        "    generator.fit(X_train)\n",
        "\n",
        "    # Augment the data (retain the 4D shape: batch, height, width, channels)\n",
        "    aug1 = next(generator.flow(X_train, batch_size=len(X_train), shuffle=False))\n",
        "    aug2 = next(generator.flow(X_train, batch_size=len(X_train), shuffle=False))\n",
        "\n",
        "    # Concatenate the original and augmented data\n",
        "    X_train_aug = np.concatenate((X_train, aug1, aug2))\n",
        "    y_train_aug = np.concatenate((y_train, y_train, y_train))\n",
        "\n",
        "    return X_train_aug, y_train_aug"
      ],
      "metadata": {
        "id": "nW3izycqLsA7"
      },
      "execution_count": null,
      "outputs": []
    },
    {
      "cell_type": "code",
      "source": [
        "# 위에가 더 잘나옴\n",
        "# def augment_data(X_train, y_train):\n",
        "#     # Ensure the input data has the right dimensions (batch_size, height, width, channels)\n",
        "#     if X_train.ndim == 3:\n",
        "#         X_train = np.expand_dims(X_train, axis=-1)  # If the data is missing the channel dimension, add it\n",
        "\n",
        "#     # 기본 데이터 증강기 (다른 클래스)\n",
        "#     general_generator = ImageDataGenerator(\n",
        "#         rotation_range=15,\n",
        "#         width_shift_range=0.1,\n",
        "#         height_shift_range=0.1,\n",
        "#         horizontal_flip=True,\n",
        "#         zoom_range=0.1,\n",
        "#         shear_range=0.05,\n",
        "#     )\n",
        "\n",
        "#     # 7: 'Sandwich', 8: 'Taco', 9: 'Taquito'에 대한 더 강력한 증강기\n",
        "#     special_generator = ImageDataGenerator(\n",
        "#         rotation_range=30,       # 더 강한 회전\n",
        "#         width_shift_range=0.3,   # 더 강한 수평 이동\n",
        "#         height_shift_range=0.3,  # 더 강한 수직 이동\n",
        "#         horizontal_flip=True,\n",
        "#         zoom_range=0.3,          # 더 강한 줌\n",
        "#         shear_range=0.2,         # 더 강한 기울이기\n",
        "#     )\n",
        "\n",
        "#     # 데이터 증강 결과를 저장할 리스트\n",
        "#     X_train_aug, y_train_aug = [], []\n",
        "\n",
        "#     # 각 샘플에 대해 해당하는 증강을 적용\n",
        "#     for i in range(len(X_train)):\n",
        "#         x = X_train[i]\n",
        "#         y = y_train[i]\n",
        "\n",
        "#         # 특정 클래스(7: 'Sandwich', 8: 'Taco', 9: 'Taquito')에 대해 강한 증강 적용\n",
        "#         if y in [7, 8, 9]:\n",
        "#             # 특별한 증강기 사용\n",
        "#             aug1 = next(special_generator.flow(np.expand_dims(x, axis=0), batch_size=1, shuffle=False))\n",
        "#             aug2 = next(special_generator.flow(np.expand_dims(x, axis=0), batch_size=1, shuffle=False))\n",
        "#         else:\n",
        "#             # 일반 증강기 사용\n",
        "#             aug1 = next(general_generator.flow(np.expand_dims(x, axis=0), batch_size=1, shuffle=False))\n",
        "#             aug2 = next(general_generator.flow(np.expand_dims(x, axis=0), batch_size=1, shuffle=False))\n",
        "\n",
        "#         # 원본 및 증강 데이터를 추가\n",
        "#         X_train_aug.append(x)\n",
        "#         X_train_aug.append(aug1[0])\n",
        "#         X_train_aug.append(aug2[0])\n",
        "#         y_train_aug.append(y)\n",
        "#         y_train_aug.append(y)\n",
        "#         y_train_aug.append(y)\n",
        "\n",
        "#     # 리스트를 numpy 배열로 변환\n",
        "#     X_train_aug = np.array(X_train_aug)\n",
        "#     y_train_aug = np.array(y_train_aug)\n",
        "\n",
        "#     return X_train_aug, y_train_aug\n"
      ],
      "metadata": {
        "id": "e2ocjw6WtV9Z"
      },
      "execution_count": null,
      "outputs": []
    },
    {
      "cell_type": "code",
      "source": [
        "# MixUp 적용\n",
        "def mixup_data(x, y, alpha=0.2):\n",
        "    '''Returns mixed inputs, pairs of targets, and lambda'''\n",
        "    if alpha > 0:\n",
        "        lam = np.random.beta(alpha, alpha)\n",
        "    else:\n",
        "        lam = 1\n",
        "\n",
        "    batch_size = x.shape[0]\n",
        "    index = np.random.permutation(batch_size)\n",
        "\n",
        "    mixed_x = lam * x + (1 - lam) * x[index, :]\n",
        "    y_a, y_b = y, y[index]\n",
        "    return mixed_x, y_a, y_b, lam"
      ],
      "metadata": {
        "id": "cikPMPvJLstB"
      },
      "execution_count": null,
      "outputs": []
    },
    {
      "cell_type": "code",
      "source": [
        "def mixup_criterion(criterion, pred, y_a, y_b, lam):\n",
        "    return lam * criterion(pred, y_a) + (1 - lam) * criterion(pred, y_b)\n"
      ],
      "metadata": {
        "id": "6GF4y01MLwOE"
      },
      "execution_count": null,
      "outputs": []
    },
    {
      "cell_type": "code",
      "source": [
        "# Augment training data with MixUp\n",
        "X_train, X_test, y_train, y_test = train_test_split(data, labels, test_size=0.2, random_state=42)\n",
        "X_train, y_train = augment_data(X_train, y_train)\n",
        "\n"
      ],
      "metadata": {
        "id": "GwR6U9ryL08V"
      },
      "execution_count": null,
      "outputs": []
    },
    {
      "cell_type": "code",
      "source": [
        "# Compute class weights\n",
        "class_weight = compute_class_weight(class_weight=\"balanced\", classes=np.unique(labels), y=labels)\n",
        "class_weight = {i: class_weight[i] for i in range(len(np.unique(labels)))}\n"
      ],
      "metadata": {
        "id": "XeqwM_7EL1PZ"
      },
      "execution_count": null,
      "outputs": []
    },
    {
      "cell_type": "code",
      "source": [
        "\n",
        "# Load pre-trained ConvNeXT model\n",
        "num_classes = len(np.unique(labels))\n",
        "model = ConvNextForImageClassification.from_pretrained(\n",
        "    'facebook/convnext-base-224',\n",
        "    num_labels=num_classes,\n",
        "    ignore_mismatched_sizes=True\n",
        ").to(device)\n",
        "image_processor = ConvNextImageProcessor.from_pretrained('facebook/convnext-base-224')\n"
      ],
      "metadata": {
        "id": "AHkwe1RAL4X1",
        "colab": {
          "base_uri": "https://localhost:8080/",
          "height": 258,
          "referenced_widgets": [
            "45b1806053f24a64ab04e34e9cc003f9",
            "776ed5ba9e724ca387b43e813514e087",
            "1b0f47fc71074d50976cd1b6c7f72303",
            "7b30f2a9ef354ca7968954d8aad6fb2a",
            "8ff630d22a7243a2a6afee232ca02c73",
            "92492d3ab0ca4fb2bf05c6fba333676d",
            "6b194f84e94e403696df2bde3900be8b",
            "ddd83785364647089b611423210d09e4",
            "eb817b020f6d4f329f3851576c86ccd0",
            "83b882cb4a5e499693320ba0d3ec8c65",
            "55771fd178cb4bed84a98e77883293ac",
            "3afe880827fb4dd784f2fc622f1d4e41",
            "4e7cbfd6107d4f30ae0faa62f5ff774d",
            "23cc0c2f50454e4fb9805499794672a2",
            "7e1b14fd72f24540a369b467115af246",
            "ac6d35b994b044558e02cc900abf18ae",
            "ea927936158b4e5ab3d6d0ebe6a9b4a9",
            "bf6eb5db364042a6966d280672173379",
            "4b70a3b0400c48c8a170816c3c82be02",
            "0d5d6834204d427999546b06b3342a1f",
            "e0d75410be044849915d3bd2323c343e",
            "79d14b8e82224b0396975155e2d4fa62",
            "2cf45915fb4e40f78ba1c0e925764938",
            "fe26f6efd939424ca8d13628dde164ee",
            "ae0a570072b241fe8cb7b9c6c0012e8f",
            "0d6d5f9eb3da46208851cb15a9e87859",
            "f3e81083c0f34d3398ecf923656a5055",
            "efd99bb4150d4cb2a728a672d66615e6",
            "ffddf601b5bc413e9e7740cffa22d72a",
            "c59fb42250924ef6b4beb3a1a752bfc7",
            "6461a4cb59444e72827003082b7823ee",
            "c0a7e2deed2a4167924b1e39545f5142",
            "9c5011c655c3433983db0f045e35e548"
          ]
        },
        "outputId": "7ca01c06-0690-4274-dcf3-4dc344b693f9"
      },
      "execution_count": null,
      "outputs": [
        {
          "output_type": "display_data",
          "data": {
            "text/plain": [
              "config.json:   0%|          | 0.00/69.7k [00:00<?, ?B/s]"
            ],
            "application/vnd.jupyter.widget-view+json": {
              "version_major": 2,
              "version_minor": 0,
              "model_id": "45b1806053f24a64ab04e34e9cc003f9"
            }
          },
          "metadata": {}
        },
        {
          "output_type": "stream",
          "name": "stderr",
          "text": [
            "You are using a model of type convnextv2 to instantiate a model of type convnext. This is not supported for all configurations of models and can yield errors.\n"
          ]
        },
        {
          "output_type": "display_data",
          "data": {
            "text/plain": [
              "pytorch_model.bin:   0%|          | 0.00/355M [00:00<?, ?B/s]"
            ],
            "application/vnd.jupyter.widget-view+json": {
              "version_major": 2,
              "version_minor": 0,
              "model_id": "3afe880827fb4dd784f2fc622f1d4e41"
            }
          },
          "metadata": {}
        },
        {
          "output_type": "stream",
          "name": "stderr",
          "text": [
            "Some weights of ConvNextForImageClassification were not initialized from the model checkpoint at facebook/convnextv2-base-22k-224 and are newly initialized: ['convnext.embeddings.layernorm.bias', 'convnext.embeddings.layernorm.weight', 'convnext.embeddings.patch_embeddings.bias', 'convnext.embeddings.patch_embeddings.weight', 'convnext.encoder.stages.0.layers.0.dwconv.bias', 'convnext.encoder.stages.0.layers.0.dwconv.weight', 'convnext.encoder.stages.0.layers.0.layer_scale_parameter', 'convnext.encoder.stages.0.layers.0.layernorm.bias', 'convnext.encoder.stages.0.layers.0.layernorm.weight', 'convnext.encoder.stages.0.layers.0.pwconv1.bias', 'convnext.encoder.stages.0.layers.0.pwconv1.weight', 'convnext.encoder.stages.0.layers.0.pwconv2.bias', 'convnext.encoder.stages.0.layers.0.pwconv2.weight', 'convnext.encoder.stages.0.layers.1.dwconv.bias', 'convnext.encoder.stages.0.layers.1.dwconv.weight', 'convnext.encoder.stages.0.layers.1.layer_scale_parameter', 'convnext.encoder.stages.0.layers.1.layernorm.bias', 'convnext.encoder.stages.0.layers.1.layernorm.weight', 'convnext.encoder.stages.0.layers.1.pwconv1.bias', 'convnext.encoder.stages.0.layers.1.pwconv1.weight', 'convnext.encoder.stages.0.layers.1.pwconv2.bias', 'convnext.encoder.stages.0.layers.1.pwconv2.weight', 'convnext.encoder.stages.0.layers.2.dwconv.bias', 'convnext.encoder.stages.0.layers.2.dwconv.weight', 'convnext.encoder.stages.0.layers.2.layer_scale_parameter', 'convnext.encoder.stages.0.layers.2.layernorm.bias', 'convnext.encoder.stages.0.layers.2.layernorm.weight', 'convnext.encoder.stages.0.layers.2.pwconv1.bias', 'convnext.encoder.stages.0.layers.2.pwconv1.weight', 'convnext.encoder.stages.0.layers.2.pwconv2.bias', 'convnext.encoder.stages.0.layers.2.pwconv2.weight', 'convnext.encoder.stages.1.downsampling_layer.0.bias', 'convnext.encoder.stages.1.downsampling_layer.0.weight', 'convnext.encoder.stages.1.downsampling_layer.1.bias', 'convnext.encoder.stages.1.downsampling_layer.1.weight', 'convnext.encoder.stages.1.layers.0.dwconv.bias', 'convnext.encoder.stages.1.layers.0.dwconv.weight', 'convnext.encoder.stages.1.layers.0.layer_scale_parameter', 'convnext.encoder.stages.1.layers.0.layernorm.bias', 'convnext.encoder.stages.1.layers.0.layernorm.weight', 'convnext.encoder.stages.1.layers.0.pwconv1.bias', 'convnext.encoder.stages.1.layers.0.pwconv1.weight', 'convnext.encoder.stages.1.layers.0.pwconv2.bias', 'convnext.encoder.stages.1.layers.0.pwconv2.weight', 'convnext.encoder.stages.1.layers.1.dwconv.bias', 'convnext.encoder.stages.1.layers.1.dwconv.weight', 'convnext.encoder.stages.1.layers.1.layer_scale_parameter', 'convnext.encoder.stages.1.layers.1.layernorm.bias', 'convnext.encoder.stages.1.layers.1.layernorm.weight', 'convnext.encoder.stages.1.layers.1.pwconv1.bias', 'convnext.encoder.stages.1.layers.1.pwconv1.weight', 'convnext.encoder.stages.1.layers.1.pwconv2.bias', 'convnext.encoder.stages.1.layers.1.pwconv2.weight', 'convnext.encoder.stages.1.layers.2.dwconv.bias', 'convnext.encoder.stages.1.layers.2.dwconv.weight', 'convnext.encoder.stages.1.layers.2.layer_scale_parameter', 'convnext.encoder.stages.1.layers.2.layernorm.bias', 'convnext.encoder.stages.1.layers.2.layernorm.weight', 'convnext.encoder.stages.1.layers.2.pwconv1.bias', 'convnext.encoder.stages.1.layers.2.pwconv1.weight', 'convnext.encoder.stages.1.layers.2.pwconv2.bias', 'convnext.encoder.stages.1.layers.2.pwconv2.weight', 'convnext.encoder.stages.2.downsampling_layer.0.bias', 'convnext.encoder.stages.2.downsampling_layer.0.weight', 'convnext.encoder.stages.2.downsampling_layer.1.bias', 'convnext.encoder.stages.2.downsampling_layer.1.weight', 'convnext.encoder.stages.2.layers.0.dwconv.bias', 'convnext.encoder.stages.2.layers.0.dwconv.weight', 'convnext.encoder.stages.2.layers.0.layer_scale_parameter', 'convnext.encoder.stages.2.layers.0.layernorm.bias', 'convnext.encoder.stages.2.layers.0.layernorm.weight', 'convnext.encoder.stages.2.layers.0.pwconv1.bias', 'convnext.encoder.stages.2.layers.0.pwconv1.weight', 'convnext.encoder.stages.2.layers.0.pwconv2.bias', 'convnext.encoder.stages.2.layers.0.pwconv2.weight', 'convnext.encoder.stages.2.layers.1.dwconv.bias', 'convnext.encoder.stages.2.layers.1.dwconv.weight', 'convnext.encoder.stages.2.layers.1.layer_scale_parameter', 'convnext.encoder.stages.2.layers.1.layernorm.bias', 'convnext.encoder.stages.2.layers.1.layernorm.weight', 'convnext.encoder.stages.2.layers.1.pwconv1.bias', 'convnext.encoder.stages.2.layers.1.pwconv1.weight', 'convnext.encoder.stages.2.layers.1.pwconv2.bias', 'convnext.encoder.stages.2.layers.1.pwconv2.weight', 'convnext.encoder.stages.2.layers.10.dwconv.bias', 'convnext.encoder.stages.2.layers.10.dwconv.weight', 'convnext.encoder.stages.2.layers.10.layer_scale_parameter', 'convnext.encoder.stages.2.layers.10.layernorm.bias', 'convnext.encoder.stages.2.layers.10.layernorm.weight', 'convnext.encoder.stages.2.layers.10.pwconv1.bias', 'convnext.encoder.stages.2.layers.10.pwconv1.weight', 'convnext.encoder.stages.2.layers.10.pwconv2.bias', 'convnext.encoder.stages.2.layers.10.pwconv2.weight', 'convnext.encoder.stages.2.layers.11.dwconv.bias', 'convnext.encoder.stages.2.layers.11.dwconv.weight', 'convnext.encoder.stages.2.layers.11.layer_scale_parameter', 'convnext.encoder.stages.2.layers.11.layernorm.bias', 'convnext.encoder.stages.2.layers.11.layernorm.weight', 'convnext.encoder.stages.2.layers.11.pwconv1.bias', 'convnext.encoder.stages.2.layers.11.pwconv1.weight', 'convnext.encoder.stages.2.layers.11.pwconv2.bias', 'convnext.encoder.stages.2.layers.11.pwconv2.weight', 'convnext.encoder.stages.2.layers.12.dwconv.bias', 'convnext.encoder.stages.2.layers.12.dwconv.weight', 'convnext.encoder.stages.2.layers.12.layer_scale_parameter', 'convnext.encoder.stages.2.layers.12.layernorm.bias', 'convnext.encoder.stages.2.layers.12.layernorm.weight', 'convnext.encoder.stages.2.layers.12.pwconv1.bias', 'convnext.encoder.stages.2.layers.12.pwconv1.weight', 'convnext.encoder.stages.2.layers.12.pwconv2.bias', 'convnext.encoder.stages.2.layers.12.pwconv2.weight', 'convnext.encoder.stages.2.layers.13.dwconv.bias', 'convnext.encoder.stages.2.layers.13.dwconv.weight', 'convnext.encoder.stages.2.layers.13.layer_scale_parameter', 'convnext.encoder.stages.2.layers.13.layernorm.bias', 'convnext.encoder.stages.2.layers.13.layernorm.weight', 'convnext.encoder.stages.2.layers.13.pwconv1.bias', 'convnext.encoder.stages.2.layers.13.pwconv1.weight', 'convnext.encoder.stages.2.layers.13.pwconv2.bias', 'convnext.encoder.stages.2.layers.13.pwconv2.weight', 'convnext.encoder.stages.2.layers.14.dwconv.bias', 'convnext.encoder.stages.2.layers.14.dwconv.weight', 'convnext.encoder.stages.2.layers.14.layer_scale_parameter', 'convnext.encoder.stages.2.layers.14.layernorm.bias', 'convnext.encoder.stages.2.layers.14.layernorm.weight', 'convnext.encoder.stages.2.layers.14.pwconv1.bias', 'convnext.encoder.stages.2.layers.14.pwconv1.weight', 'convnext.encoder.stages.2.layers.14.pwconv2.bias', 'convnext.encoder.stages.2.layers.14.pwconv2.weight', 'convnext.encoder.stages.2.layers.15.dwconv.bias', 'convnext.encoder.stages.2.layers.15.dwconv.weight', 'convnext.encoder.stages.2.layers.15.layer_scale_parameter', 'convnext.encoder.stages.2.layers.15.layernorm.bias', 'convnext.encoder.stages.2.layers.15.layernorm.weight', 'convnext.encoder.stages.2.layers.15.pwconv1.bias', 'convnext.encoder.stages.2.layers.15.pwconv1.weight', 'convnext.encoder.stages.2.layers.15.pwconv2.bias', 'convnext.encoder.stages.2.layers.15.pwconv2.weight', 'convnext.encoder.stages.2.layers.16.dwconv.bias', 'convnext.encoder.stages.2.layers.16.dwconv.weight', 'convnext.encoder.stages.2.layers.16.layer_scale_parameter', 'convnext.encoder.stages.2.layers.16.layernorm.bias', 'convnext.encoder.stages.2.layers.16.layernorm.weight', 'convnext.encoder.stages.2.layers.16.pwconv1.bias', 'convnext.encoder.stages.2.layers.16.pwconv1.weight', 'convnext.encoder.stages.2.layers.16.pwconv2.bias', 'convnext.encoder.stages.2.layers.16.pwconv2.weight', 'convnext.encoder.stages.2.layers.17.dwconv.bias', 'convnext.encoder.stages.2.layers.17.dwconv.weight', 'convnext.encoder.stages.2.layers.17.layer_scale_parameter', 'convnext.encoder.stages.2.layers.17.layernorm.bias', 'convnext.encoder.stages.2.layers.17.layernorm.weight', 'convnext.encoder.stages.2.layers.17.pwconv1.bias', 'convnext.encoder.stages.2.layers.17.pwconv1.weight', 'convnext.encoder.stages.2.layers.17.pwconv2.bias', 'convnext.encoder.stages.2.layers.17.pwconv2.weight', 'convnext.encoder.stages.2.layers.18.dwconv.bias', 'convnext.encoder.stages.2.layers.18.dwconv.weight', 'convnext.encoder.stages.2.layers.18.layer_scale_parameter', 'convnext.encoder.stages.2.layers.18.layernorm.bias', 'convnext.encoder.stages.2.layers.18.layernorm.weight', 'convnext.encoder.stages.2.layers.18.pwconv1.bias', 'convnext.encoder.stages.2.layers.18.pwconv1.weight', 'convnext.encoder.stages.2.layers.18.pwconv2.bias', 'convnext.encoder.stages.2.layers.18.pwconv2.weight', 'convnext.encoder.stages.2.layers.19.dwconv.bias', 'convnext.encoder.stages.2.layers.19.dwconv.weight', 'convnext.encoder.stages.2.layers.19.layer_scale_parameter', 'convnext.encoder.stages.2.layers.19.layernorm.bias', 'convnext.encoder.stages.2.layers.19.layernorm.weight', 'convnext.encoder.stages.2.layers.19.pwconv1.bias', 'convnext.encoder.stages.2.layers.19.pwconv1.weight', 'convnext.encoder.stages.2.layers.19.pwconv2.bias', 'convnext.encoder.stages.2.layers.19.pwconv2.weight', 'convnext.encoder.stages.2.layers.2.dwconv.bias', 'convnext.encoder.stages.2.layers.2.dwconv.weight', 'convnext.encoder.stages.2.layers.2.layer_scale_parameter', 'convnext.encoder.stages.2.layers.2.layernorm.bias', 'convnext.encoder.stages.2.layers.2.layernorm.weight', 'convnext.encoder.stages.2.layers.2.pwconv1.bias', 'convnext.encoder.stages.2.layers.2.pwconv1.weight', 'convnext.encoder.stages.2.layers.2.pwconv2.bias', 'convnext.encoder.stages.2.layers.2.pwconv2.weight', 'convnext.encoder.stages.2.layers.20.dwconv.bias', 'convnext.encoder.stages.2.layers.20.dwconv.weight', 'convnext.encoder.stages.2.layers.20.layer_scale_parameter', 'convnext.encoder.stages.2.layers.20.layernorm.bias', 'convnext.encoder.stages.2.layers.20.layernorm.weight', 'convnext.encoder.stages.2.layers.20.pwconv1.bias', 'convnext.encoder.stages.2.layers.20.pwconv1.weight', 'convnext.encoder.stages.2.layers.20.pwconv2.bias', 'convnext.encoder.stages.2.layers.20.pwconv2.weight', 'convnext.encoder.stages.2.layers.21.dwconv.bias', 'convnext.encoder.stages.2.layers.21.dwconv.weight', 'convnext.encoder.stages.2.layers.21.layer_scale_parameter', 'convnext.encoder.stages.2.layers.21.layernorm.bias', 'convnext.encoder.stages.2.layers.21.layernorm.weight', 'convnext.encoder.stages.2.layers.21.pwconv1.bias', 'convnext.encoder.stages.2.layers.21.pwconv1.weight', 'convnext.encoder.stages.2.layers.21.pwconv2.bias', 'convnext.encoder.stages.2.layers.21.pwconv2.weight', 'convnext.encoder.stages.2.layers.22.dwconv.bias', 'convnext.encoder.stages.2.layers.22.dwconv.weight', 'convnext.encoder.stages.2.layers.22.layer_scale_parameter', 'convnext.encoder.stages.2.layers.22.layernorm.bias', 'convnext.encoder.stages.2.layers.22.layernorm.weight', 'convnext.encoder.stages.2.layers.22.pwconv1.bias', 'convnext.encoder.stages.2.layers.22.pwconv1.weight', 'convnext.encoder.stages.2.layers.22.pwconv2.bias', 'convnext.encoder.stages.2.layers.22.pwconv2.weight', 'convnext.encoder.stages.2.layers.23.dwconv.bias', 'convnext.encoder.stages.2.layers.23.dwconv.weight', 'convnext.encoder.stages.2.layers.23.layer_scale_parameter', 'convnext.encoder.stages.2.layers.23.layernorm.bias', 'convnext.encoder.stages.2.layers.23.layernorm.weight', 'convnext.encoder.stages.2.layers.23.pwconv1.bias', 'convnext.encoder.stages.2.layers.23.pwconv1.weight', 'convnext.encoder.stages.2.layers.23.pwconv2.bias', 'convnext.encoder.stages.2.layers.23.pwconv2.weight', 'convnext.encoder.stages.2.layers.24.dwconv.bias', 'convnext.encoder.stages.2.layers.24.dwconv.weight', 'convnext.encoder.stages.2.layers.24.layer_scale_parameter', 'convnext.encoder.stages.2.layers.24.layernorm.bias', 'convnext.encoder.stages.2.layers.24.layernorm.weight', 'convnext.encoder.stages.2.layers.24.pwconv1.bias', 'convnext.encoder.stages.2.layers.24.pwconv1.weight', 'convnext.encoder.stages.2.layers.24.pwconv2.bias', 'convnext.encoder.stages.2.layers.24.pwconv2.weight', 'convnext.encoder.stages.2.layers.25.dwconv.bias', 'convnext.encoder.stages.2.layers.25.dwconv.weight', 'convnext.encoder.stages.2.layers.25.layer_scale_parameter', 'convnext.encoder.stages.2.layers.25.layernorm.bias', 'convnext.encoder.stages.2.layers.25.layernorm.weight', 'convnext.encoder.stages.2.layers.25.pwconv1.bias', 'convnext.encoder.stages.2.layers.25.pwconv1.weight', 'convnext.encoder.stages.2.layers.25.pwconv2.bias', 'convnext.encoder.stages.2.layers.25.pwconv2.weight', 'convnext.encoder.stages.2.layers.26.dwconv.bias', 'convnext.encoder.stages.2.layers.26.dwconv.weight', 'convnext.encoder.stages.2.layers.26.layer_scale_parameter', 'convnext.encoder.stages.2.layers.26.layernorm.bias', 'convnext.encoder.stages.2.layers.26.layernorm.weight', 'convnext.encoder.stages.2.layers.26.pwconv1.bias', 'convnext.encoder.stages.2.layers.26.pwconv1.weight', 'convnext.encoder.stages.2.layers.26.pwconv2.bias', 'convnext.encoder.stages.2.layers.26.pwconv2.weight', 'convnext.encoder.stages.2.layers.3.dwconv.bias', 'convnext.encoder.stages.2.layers.3.dwconv.weight', 'convnext.encoder.stages.2.layers.3.layer_scale_parameter', 'convnext.encoder.stages.2.layers.3.layernorm.bias', 'convnext.encoder.stages.2.layers.3.layernorm.weight', 'convnext.encoder.stages.2.layers.3.pwconv1.bias', 'convnext.encoder.stages.2.layers.3.pwconv1.weight', 'convnext.encoder.stages.2.layers.3.pwconv2.bias', 'convnext.encoder.stages.2.layers.3.pwconv2.weight', 'convnext.encoder.stages.2.layers.4.dwconv.bias', 'convnext.encoder.stages.2.layers.4.dwconv.weight', 'convnext.encoder.stages.2.layers.4.layer_scale_parameter', 'convnext.encoder.stages.2.layers.4.layernorm.bias', 'convnext.encoder.stages.2.layers.4.layernorm.weight', 'convnext.encoder.stages.2.layers.4.pwconv1.bias', 'convnext.encoder.stages.2.layers.4.pwconv1.weight', 'convnext.encoder.stages.2.layers.4.pwconv2.bias', 'convnext.encoder.stages.2.layers.4.pwconv2.weight', 'convnext.encoder.stages.2.layers.5.dwconv.bias', 'convnext.encoder.stages.2.layers.5.dwconv.weight', 'convnext.encoder.stages.2.layers.5.layer_scale_parameter', 'convnext.encoder.stages.2.layers.5.layernorm.bias', 'convnext.encoder.stages.2.layers.5.layernorm.weight', 'convnext.encoder.stages.2.layers.5.pwconv1.bias', 'convnext.encoder.stages.2.layers.5.pwconv1.weight', 'convnext.encoder.stages.2.layers.5.pwconv2.bias', 'convnext.encoder.stages.2.layers.5.pwconv2.weight', 'convnext.encoder.stages.2.layers.6.dwconv.bias', 'convnext.encoder.stages.2.layers.6.dwconv.weight', 'convnext.encoder.stages.2.layers.6.layer_scale_parameter', 'convnext.encoder.stages.2.layers.6.layernorm.bias', 'convnext.encoder.stages.2.layers.6.layernorm.weight', 'convnext.encoder.stages.2.layers.6.pwconv1.bias', 'convnext.encoder.stages.2.layers.6.pwconv1.weight', 'convnext.encoder.stages.2.layers.6.pwconv2.bias', 'convnext.encoder.stages.2.layers.6.pwconv2.weight', 'convnext.encoder.stages.2.layers.7.dwconv.bias', 'convnext.encoder.stages.2.layers.7.dwconv.weight', 'convnext.encoder.stages.2.layers.7.layer_scale_parameter', 'convnext.encoder.stages.2.layers.7.layernorm.bias', 'convnext.encoder.stages.2.layers.7.layernorm.weight', 'convnext.encoder.stages.2.layers.7.pwconv1.bias', 'convnext.encoder.stages.2.layers.7.pwconv1.weight', 'convnext.encoder.stages.2.layers.7.pwconv2.bias', 'convnext.encoder.stages.2.layers.7.pwconv2.weight', 'convnext.encoder.stages.2.layers.8.dwconv.bias', 'convnext.encoder.stages.2.layers.8.dwconv.weight', 'convnext.encoder.stages.2.layers.8.layer_scale_parameter', 'convnext.encoder.stages.2.layers.8.layernorm.bias', 'convnext.encoder.stages.2.layers.8.layernorm.weight', 'convnext.encoder.stages.2.layers.8.pwconv1.bias', 'convnext.encoder.stages.2.layers.8.pwconv1.weight', 'convnext.encoder.stages.2.layers.8.pwconv2.bias', 'convnext.encoder.stages.2.layers.8.pwconv2.weight', 'convnext.encoder.stages.2.layers.9.dwconv.bias', 'convnext.encoder.stages.2.layers.9.dwconv.weight', 'convnext.encoder.stages.2.layers.9.layer_scale_parameter', 'convnext.encoder.stages.2.layers.9.layernorm.bias', 'convnext.encoder.stages.2.layers.9.layernorm.weight', 'convnext.encoder.stages.2.layers.9.pwconv1.bias', 'convnext.encoder.stages.2.layers.9.pwconv1.weight', 'convnext.encoder.stages.2.layers.9.pwconv2.bias', 'convnext.encoder.stages.2.layers.9.pwconv2.weight', 'convnext.encoder.stages.3.downsampling_layer.0.bias', 'convnext.encoder.stages.3.downsampling_layer.0.weight', 'convnext.encoder.stages.3.downsampling_layer.1.bias', 'convnext.encoder.stages.3.downsampling_layer.1.weight', 'convnext.encoder.stages.3.layers.0.dwconv.bias', 'convnext.encoder.stages.3.layers.0.dwconv.weight', 'convnext.encoder.stages.3.layers.0.layer_scale_parameter', 'convnext.encoder.stages.3.layers.0.layernorm.bias', 'convnext.encoder.stages.3.layers.0.layernorm.weight', 'convnext.encoder.stages.3.layers.0.pwconv1.bias', 'convnext.encoder.stages.3.layers.0.pwconv1.weight', 'convnext.encoder.stages.3.layers.0.pwconv2.bias', 'convnext.encoder.stages.3.layers.0.pwconv2.weight', 'convnext.encoder.stages.3.layers.1.dwconv.bias', 'convnext.encoder.stages.3.layers.1.dwconv.weight', 'convnext.encoder.stages.3.layers.1.layer_scale_parameter', 'convnext.encoder.stages.3.layers.1.layernorm.bias', 'convnext.encoder.stages.3.layers.1.layernorm.weight', 'convnext.encoder.stages.3.layers.1.pwconv1.bias', 'convnext.encoder.stages.3.layers.1.pwconv1.weight', 'convnext.encoder.stages.3.layers.1.pwconv2.bias', 'convnext.encoder.stages.3.layers.1.pwconv2.weight', 'convnext.encoder.stages.3.layers.2.dwconv.bias', 'convnext.encoder.stages.3.layers.2.dwconv.weight', 'convnext.encoder.stages.3.layers.2.layer_scale_parameter', 'convnext.encoder.stages.3.layers.2.layernorm.bias', 'convnext.encoder.stages.3.layers.2.layernorm.weight', 'convnext.encoder.stages.3.layers.2.pwconv1.bias', 'convnext.encoder.stages.3.layers.2.pwconv1.weight', 'convnext.encoder.stages.3.layers.2.pwconv2.bias', 'convnext.encoder.stages.3.layers.2.pwconv2.weight', 'convnext.layernorm.bias', 'convnext.layernorm.weight']\n",
            "You should probably TRAIN this model on a down-stream task to be able to use it for predictions and inference.\n",
            "Some weights of ConvNextForImageClassification were not initialized from the model checkpoint at facebook/convnextv2-base-22k-224 and are newly initialized because the shapes did not match:\n",
            "- classifier.weight: found shape torch.Size([1000, 1024]) in the checkpoint and torch.Size([10, 1024]) in the model instantiated\n",
            "- classifier.bias: found shape torch.Size([1000]) in the checkpoint and torch.Size([10]) in the model instantiated\n",
            "You should probably TRAIN this model on a down-stream task to be able to use it for predictions and inference.\n"
          ]
        },
        {
          "output_type": "display_data",
          "data": {
            "text/plain": [
              "preprocessor_config.json:   0%|          | 0.00/352 [00:00<?, ?B/s]"
            ],
            "application/vnd.jupyter.widget-view+json": {
              "version_major": 2,
              "version_minor": 0,
              "model_id": "2cf45915fb4e40f78ba1c0e925764938"
            }
          },
          "metadata": {}
        }
      ]
    },
    {
      "cell_type": "code",
      "source": [
        "# Define data transforms\n",
        "def get_transform(is_train=True):\n",
        "    if is_train:\n",
        "        return transforms.Compose([\n",
        "            transforms.Resize((224, 224)),\n",
        "            transforms.RandomHorizontalFlip(),\n",
        "            transforms.ToTensor(),\n",
        "            transforms.Normalize(mean=image_processor.image_mean, std=image_processor.image_std)\n",
        "        ])\n",
        "    else:\n",
        "        return transforms.Compose([\n",
        "            transforms.Resize((224, 224)),\n",
        "            transforms.ToTensor(),\n",
        "            transforms.Normalize(mean=image_processor.image_mean, std=image_processor.image_std)\n",
        "        ])\n"
      ],
      "metadata": {
        "id": "HlOiid8RL6mY"
      },
      "execution_count": null,
      "outputs": []
    },
    {
      "cell_type": "code",
      "source": [
        "# Prepare dataset and DataLoader\n",
        "def prepare_data_loaders(X_train, y_train, batch_size=64):\n",
        "    X_train_tensor = torch.tensor(X_train, dtype=torch.float32).permute(0, 3, 1, 2)\n",
        "    y_train_tensor = torch.tensor(y_train, dtype=torch.long)\n",
        "    dataset = TensorDataset(X_train_tensor, y_train_tensor)\n",
        "    train_size = int(0.8 * len(dataset))\n",
        "    val_size = len(dataset) - train_size\n",
        "    train_dataset, val_dataset = torch.utils.data.random_split(dataset, [train_size, val_size])\n",
        "    train_loader = DataLoader(train_dataset, batch_size=batch_size, shuffle=True)\n",
        "    val_loader = DataLoader(val_dataset, batch_size=batch_size)\n",
        "    return train_loader, val_loader"
      ],
      "metadata": {
        "id": "kEnqLpdCL7TY"
      },
      "execution_count": null,
      "outputs": []
    },
    {
      "cell_type": "code",
      "source": [
        "train_loader, val_loader = prepare_data_loaders(X_train, y_train)"
      ],
      "metadata": {
        "id": "_tOx9utIL9L6"
      },
      "execution_count": null,
      "outputs": []
    },
    {
      "cell_type": "code",
      "source": [
        "# Training and validation functions\n",
        "def train_model_with_mixup(model, train_loader, val_loader, epochs=10, lr=5e-5, mixup_alpha=0.2):\n",
        "    optimizer = optim.AdamW(model.parameters(), lr=lr)\n",
        "    criterion = nn.CrossEntropyLoss()\n",
        "\n",
        "    for epoch in range(epochs):\n",
        "        model.train()\n",
        "        running_loss = 0\n",
        "        for data, target in train_loader:\n",
        "            data, target = data.to(device), target.to(device)\n",
        "\n",
        "            optimizer.zero_grad()\n",
        "\n",
        "            # Apply MixUp\n",
        "            mixed_data, y_a, y_b, lam = mixup_data(data, target, alpha=mixup_alpha)\n",
        "            mixed_data, y_a, y_b = mixed_data.to(device), y_a.to(device), y_b.to(device)\n",
        "\n",
        "            output = model(mixed_data).logits\n",
        "            loss = mixup_criterion(criterion, output, y_a, y_b, lam)\n",
        "            loss.backward()\n",
        "            optimizer.step()\n",
        "            running_loss += loss.item()\n",
        "\n",
        "        print(f\"Epoch [{epoch+1}/{epochs}], Loss: {running_loss / len(train_loader):.4f}\")\n",
        "        val_loss, val_acc = validate_model(model, val_loader, criterion)\n",
        "        print(f\"Validation Loss: {val_loss:.4f}, Validation Accuracy: {val_acc:.2f}%\")\n"
      ],
      "metadata": {
        "id": "_dVt3iqbL-Zj"
      },
      "execution_count": null,
      "outputs": []
    },
    {
      "cell_type": "code",
      "source": [
        "def validate_model(model, val_loader, criterion):\n",
        "    model.eval()\n",
        "    val_loss, correct, total = 0, 0, 0\n",
        "    with torch.no_grad():\n",
        "        for data, target in val_loader:\n",
        "            data, target = data.to(device), target.to(device)\n",
        "            output = model(data).logits\n",
        "            val_loss += criterion(output, target).item()\n",
        "            _, predicted = torch.max(output, 1)\n",
        "            total += target.size(0)\n",
        "            correct += (predicted == target).sum().item()\n",
        "    return val_loss / len(val_loader), 100. * correct / total\n"
      ],
      "metadata": {
        "id": "sSfdTOl9MCDN"
      },
      "execution_count": null,
      "outputs": []
    },
    {
      "cell_type": "code",
      "source": [
        "# Train the model with MixUp\n",
        "train_model_with_mixup(model, train_loader, val_loader)"
      ],
      "metadata": {
        "id": "E5wyTy4eME04",
        "colab": {
          "base_uri": "https://localhost:8080/",
          "height": 430
        },
        "outputId": "d9c79a3b-0e9c-4141-b96a-da4266a32981"
      },
      "execution_count": null,
      "outputs": [
        {
          "output_type": "stream",
          "name": "stdout",
          "text": [
            "Epoch [1/10], Loss: 2.1667\n",
            "Validation Loss: 2.1588, Validation Accuracy: 18.62%\n",
            "Epoch [2/10], Loss: 2.1173\n",
            "Validation Loss: 2.1217, Validation Accuracy: 19.60%\n",
            "Epoch [3/10], Loss: 2.0649\n",
            "Validation Loss: 2.0008, Validation Accuracy: 24.88%\n",
            "Epoch [4/10], Loss: 2.0065\n",
            "Validation Loss: 1.9438, Validation Accuracy: 27.83%\n"
          ]
        },
        {
          "output_type": "error",
          "ename": "KeyboardInterrupt",
          "evalue": "",
          "traceback": [
            "\u001b[0;31m---------------------------------------------------------------------------\u001b[0m",
            "\u001b[0;31mKeyboardInterrupt\u001b[0m                         Traceback (most recent call last)",
            "\u001b[0;32m<ipython-input-31-b7e89b74949c>\u001b[0m in \u001b[0;36m<cell line: 2>\u001b[0;34m()\u001b[0m\n\u001b[1;32m      1\u001b[0m \u001b[0;31m# Train the model with MixUp\u001b[0m\u001b[0;34m\u001b[0m\u001b[0;34m\u001b[0m\u001b[0m\n\u001b[0;32m----> 2\u001b[0;31m \u001b[0mtrain_model_with_mixup\u001b[0m\u001b[0;34m(\u001b[0m\u001b[0mmodel\u001b[0m\u001b[0;34m,\u001b[0m \u001b[0mtrain_loader\u001b[0m\u001b[0;34m,\u001b[0m \u001b[0mval_loader\u001b[0m\u001b[0;34m)\u001b[0m\u001b[0;34m\u001b[0m\u001b[0;34m\u001b[0m\u001b[0m\n\u001b[0m",
            "\u001b[0;32m<ipython-input-29-65df4e4c4935>\u001b[0m in \u001b[0;36mtrain_model_with_mixup\u001b[0;34m(model, train_loader, val_loader, epochs, lr, mixup_alpha)\u001b[0m\n\u001b[1;32m     20\u001b[0m             \u001b[0mloss\u001b[0m\u001b[0;34m.\u001b[0m\u001b[0mbackward\u001b[0m\u001b[0;34m(\u001b[0m\u001b[0;34m)\u001b[0m\u001b[0;34m\u001b[0m\u001b[0;34m\u001b[0m\u001b[0m\n\u001b[1;32m     21\u001b[0m             \u001b[0moptimizer\u001b[0m\u001b[0;34m.\u001b[0m\u001b[0mstep\u001b[0m\u001b[0;34m(\u001b[0m\u001b[0;34m)\u001b[0m\u001b[0;34m\u001b[0m\u001b[0;34m\u001b[0m\u001b[0m\n\u001b[0;32m---> 22\u001b[0;31m             \u001b[0mrunning_loss\u001b[0m \u001b[0;34m+=\u001b[0m \u001b[0mloss\u001b[0m\u001b[0;34m.\u001b[0m\u001b[0mitem\u001b[0m\u001b[0;34m(\u001b[0m\u001b[0;34m)\u001b[0m\u001b[0;34m\u001b[0m\u001b[0;34m\u001b[0m\u001b[0m\n\u001b[0m\u001b[1;32m     23\u001b[0m \u001b[0;34m\u001b[0m\u001b[0m\n\u001b[1;32m     24\u001b[0m         \u001b[0mprint\u001b[0m\u001b[0;34m(\u001b[0m\u001b[0;34mf\"Epoch [{epoch+1}/{epochs}], Loss: {running_loss / len(train_loader):.4f}\"\u001b[0m\u001b[0;34m)\u001b[0m\u001b[0;34m\u001b[0m\u001b[0;34m\u001b[0m\u001b[0m\n",
            "\u001b[0;31mKeyboardInterrupt\u001b[0m: "
          ]
        }
      ]
    },
    {
      "cell_type": "code",
      "source": [
        "def predict_and_save(test_dir, model, transform, output_csv='result.csv'):\n",
        "    model.eval()\n",
        "    test_images = sorted([f for f in os.listdir(test_dir) if f.endswith('.jpg')])  # 이미지를 정렬된 순서로 가져옴\n",
        "    results = []\n",
        "    with torch.no_grad():\n",
        "        for img_name in test_images:\n",
        "            img_path = os.path.join(test_dir, img_name)\n",
        "            image = Image.open(img_path).convert(\"RGB\")\n",
        "            image = transform(image).unsqueeze(0).to(device)\n",
        "            output = model(image).logits\n",
        "            _, predicted_label = torch.max(output, 1)\n",
        "            results.append({\"Image\": img_name, \"Class\": predicted_label.item()})\n",
        "\n",
        "    pd.DataFrame(results).to_csv(output_csv, index=False)\n",
        "    print(f\"Results saved to {output_csv}\")"
      ],
      "metadata": {
        "id": "IJllG31hMGc-"
      },
      "execution_count": null,
      "outputs": []
    },
    {
      "cell_type": "code",
      "source": [
        "# Predict and save test results\n",
        "test_dir = '/content/data/Test'\n",
        "predict_and_save(test_dir, model, get_transform(is_train=False))"
      ],
      "metadata": {
        "id": "gLYzv_NgMP7X"
      },
      "execution_count": null,
      "outputs": []
    }
  ],
  "metadata": {
    "accelerator": "GPU",
    "colab": {
      "machine_shape": "hm",
      "provenance": [],
      "gpuType": "A100",
      "include_colab_link": true
    },
    "kernelspec": {
      "display_name": "Python 3",
      "name": "python3"
    },
    "language_info": {
      "name": "python"
    },
    "widgets": {
      "application/vnd.jupyter.widget-state+json": {
        "45b1806053f24a64ab04e34e9cc003f9": {
          "model_module": "@jupyter-widgets/controls",
          "model_name": "HBoxModel",
          "model_module_version": "1.5.0",
          "state": {
            "_dom_classes": [],
            "_model_module": "@jupyter-widgets/controls",
            "_model_module_version": "1.5.0",
            "_model_name": "HBoxModel",
            "_view_count": null,
            "_view_module": "@jupyter-widgets/controls",
            "_view_module_version": "1.5.0",
            "_view_name": "HBoxView",
            "box_style": "",
            "children": [
              "IPY_MODEL_776ed5ba9e724ca387b43e813514e087",
              "IPY_MODEL_1b0f47fc71074d50976cd1b6c7f72303",
              "IPY_MODEL_7b30f2a9ef354ca7968954d8aad6fb2a"
            ],
            "layout": "IPY_MODEL_8ff630d22a7243a2a6afee232ca02c73"
          }
        },
        "776ed5ba9e724ca387b43e813514e087": {
          "model_module": "@jupyter-widgets/controls",
          "model_name": "HTMLModel",
          "model_module_version": "1.5.0",
          "state": {
            "_dom_classes": [],
            "_model_module": "@jupyter-widgets/controls",
            "_model_module_version": "1.5.0",
            "_model_name": "HTMLModel",
            "_view_count": null,
            "_view_module": "@jupyter-widgets/controls",
            "_view_module_version": "1.5.0",
            "_view_name": "HTMLView",
            "description": "",
            "description_tooltip": null,
            "layout": "IPY_MODEL_92492d3ab0ca4fb2bf05c6fba333676d",
            "placeholder": "​",
            "style": "IPY_MODEL_6b194f84e94e403696df2bde3900be8b",
            "value": "config.json: 100%"
          }
        },
        "1b0f47fc71074d50976cd1b6c7f72303": {
          "model_module": "@jupyter-widgets/controls",
          "model_name": "FloatProgressModel",
          "model_module_version": "1.5.0",
          "state": {
            "_dom_classes": [],
            "_model_module": "@jupyter-widgets/controls",
            "_model_module_version": "1.5.0",
            "_model_name": "FloatProgressModel",
            "_view_count": null,
            "_view_module": "@jupyter-widgets/controls",
            "_view_module_version": "1.5.0",
            "_view_name": "ProgressView",
            "bar_style": "success",
            "description": "",
            "description_tooltip": null,
            "layout": "IPY_MODEL_ddd83785364647089b611423210d09e4",
            "max": 69727,
            "min": 0,
            "orientation": "horizontal",
            "style": "IPY_MODEL_eb817b020f6d4f329f3851576c86ccd0",
            "value": 69727
          }
        },
        "7b30f2a9ef354ca7968954d8aad6fb2a": {
          "model_module": "@jupyter-widgets/controls",
          "model_name": "HTMLModel",
          "model_module_version": "1.5.0",
          "state": {
            "_dom_classes": [],
            "_model_module": "@jupyter-widgets/controls",
            "_model_module_version": "1.5.0",
            "_model_name": "HTMLModel",
            "_view_count": null,
            "_view_module": "@jupyter-widgets/controls",
            "_view_module_version": "1.5.0",
            "_view_name": "HTMLView",
            "description": "",
            "description_tooltip": null,
            "layout": "IPY_MODEL_83b882cb4a5e499693320ba0d3ec8c65",
            "placeholder": "​",
            "style": "IPY_MODEL_55771fd178cb4bed84a98e77883293ac",
            "value": " 69.7k/69.7k [00:00&lt;00:00, 1.30MB/s]"
          }
        },
        "8ff630d22a7243a2a6afee232ca02c73": {
          "model_module": "@jupyter-widgets/base",
          "model_name": "LayoutModel",
          "model_module_version": "1.2.0",
          "state": {
            "_model_module": "@jupyter-widgets/base",
            "_model_module_version": "1.2.0",
            "_model_name": "LayoutModel",
            "_view_count": null,
            "_view_module": "@jupyter-widgets/base",
            "_view_module_version": "1.2.0",
            "_view_name": "LayoutView",
            "align_content": null,
            "align_items": null,
            "align_self": null,
            "border": null,
            "bottom": null,
            "display": null,
            "flex": null,
            "flex_flow": null,
            "grid_area": null,
            "grid_auto_columns": null,
            "grid_auto_flow": null,
            "grid_auto_rows": null,
            "grid_column": null,
            "grid_gap": null,
            "grid_row": null,
            "grid_template_areas": null,
            "grid_template_columns": null,
            "grid_template_rows": null,
            "height": null,
            "justify_content": null,
            "justify_items": null,
            "left": null,
            "margin": null,
            "max_height": null,
            "max_width": null,
            "min_height": null,
            "min_width": null,
            "object_fit": null,
            "object_position": null,
            "order": null,
            "overflow": null,
            "overflow_x": null,
            "overflow_y": null,
            "padding": null,
            "right": null,
            "top": null,
            "visibility": null,
            "width": null
          }
        },
        "92492d3ab0ca4fb2bf05c6fba333676d": {
          "model_module": "@jupyter-widgets/base",
          "model_name": "LayoutModel",
          "model_module_version": "1.2.0",
          "state": {
            "_model_module": "@jupyter-widgets/base",
            "_model_module_version": "1.2.0",
            "_model_name": "LayoutModel",
            "_view_count": null,
            "_view_module": "@jupyter-widgets/base",
            "_view_module_version": "1.2.0",
            "_view_name": "LayoutView",
            "align_content": null,
            "align_items": null,
            "align_self": null,
            "border": null,
            "bottom": null,
            "display": null,
            "flex": null,
            "flex_flow": null,
            "grid_area": null,
            "grid_auto_columns": null,
            "grid_auto_flow": null,
            "grid_auto_rows": null,
            "grid_column": null,
            "grid_gap": null,
            "grid_row": null,
            "grid_template_areas": null,
            "grid_template_columns": null,
            "grid_template_rows": null,
            "height": null,
            "justify_content": null,
            "justify_items": null,
            "left": null,
            "margin": null,
            "max_height": null,
            "max_width": null,
            "min_height": null,
            "min_width": null,
            "object_fit": null,
            "object_position": null,
            "order": null,
            "overflow": null,
            "overflow_x": null,
            "overflow_y": null,
            "padding": null,
            "right": null,
            "top": null,
            "visibility": null,
            "width": null
          }
        },
        "6b194f84e94e403696df2bde3900be8b": {
          "model_module": "@jupyter-widgets/controls",
          "model_name": "DescriptionStyleModel",
          "model_module_version": "1.5.0",
          "state": {
            "_model_module": "@jupyter-widgets/controls",
            "_model_module_version": "1.5.0",
            "_model_name": "DescriptionStyleModel",
            "_view_count": null,
            "_view_module": "@jupyter-widgets/base",
            "_view_module_version": "1.2.0",
            "_view_name": "StyleView",
            "description_width": ""
          }
        },
        "ddd83785364647089b611423210d09e4": {
          "model_module": "@jupyter-widgets/base",
          "model_name": "LayoutModel",
          "model_module_version": "1.2.0",
          "state": {
            "_model_module": "@jupyter-widgets/base",
            "_model_module_version": "1.2.0",
            "_model_name": "LayoutModel",
            "_view_count": null,
            "_view_module": "@jupyter-widgets/base",
            "_view_module_version": "1.2.0",
            "_view_name": "LayoutView",
            "align_content": null,
            "align_items": null,
            "align_self": null,
            "border": null,
            "bottom": null,
            "display": null,
            "flex": null,
            "flex_flow": null,
            "grid_area": null,
            "grid_auto_columns": null,
            "grid_auto_flow": null,
            "grid_auto_rows": null,
            "grid_column": null,
            "grid_gap": null,
            "grid_row": null,
            "grid_template_areas": null,
            "grid_template_columns": null,
            "grid_template_rows": null,
            "height": null,
            "justify_content": null,
            "justify_items": null,
            "left": null,
            "margin": null,
            "max_height": null,
            "max_width": null,
            "min_height": null,
            "min_width": null,
            "object_fit": null,
            "object_position": null,
            "order": null,
            "overflow": null,
            "overflow_x": null,
            "overflow_y": null,
            "padding": null,
            "right": null,
            "top": null,
            "visibility": null,
            "width": null
          }
        },
        "eb817b020f6d4f329f3851576c86ccd0": {
          "model_module": "@jupyter-widgets/controls",
          "model_name": "ProgressStyleModel",
          "model_module_version": "1.5.0",
          "state": {
            "_model_module": "@jupyter-widgets/controls",
            "_model_module_version": "1.5.0",
            "_model_name": "ProgressStyleModel",
            "_view_count": null,
            "_view_module": "@jupyter-widgets/base",
            "_view_module_version": "1.2.0",
            "_view_name": "StyleView",
            "bar_color": null,
            "description_width": ""
          }
        },
        "83b882cb4a5e499693320ba0d3ec8c65": {
          "model_module": "@jupyter-widgets/base",
          "model_name": "LayoutModel",
          "model_module_version": "1.2.0",
          "state": {
            "_model_module": "@jupyter-widgets/base",
            "_model_module_version": "1.2.0",
            "_model_name": "LayoutModel",
            "_view_count": null,
            "_view_module": "@jupyter-widgets/base",
            "_view_module_version": "1.2.0",
            "_view_name": "LayoutView",
            "align_content": null,
            "align_items": null,
            "align_self": null,
            "border": null,
            "bottom": null,
            "display": null,
            "flex": null,
            "flex_flow": null,
            "grid_area": null,
            "grid_auto_columns": null,
            "grid_auto_flow": null,
            "grid_auto_rows": null,
            "grid_column": null,
            "grid_gap": null,
            "grid_row": null,
            "grid_template_areas": null,
            "grid_template_columns": null,
            "grid_template_rows": null,
            "height": null,
            "justify_content": null,
            "justify_items": null,
            "left": null,
            "margin": null,
            "max_height": null,
            "max_width": null,
            "min_height": null,
            "min_width": null,
            "object_fit": null,
            "object_position": null,
            "order": null,
            "overflow": null,
            "overflow_x": null,
            "overflow_y": null,
            "padding": null,
            "right": null,
            "top": null,
            "visibility": null,
            "width": null
          }
        },
        "55771fd178cb4bed84a98e77883293ac": {
          "model_module": "@jupyter-widgets/controls",
          "model_name": "DescriptionStyleModel",
          "model_module_version": "1.5.0",
          "state": {
            "_model_module": "@jupyter-widgets/controls",
            "_model_module_version": "1.5.0",
            "_model_name": "DescriptionStyleModel",
            "_view_count": null,
            "_view_module": "@jupyter-widgets/base",
            "_view_module_version": "1.2.0",
            "_view_name": "StyleView",
            "description_width": ""
          }
        },
        "3afe880827fb4dd784f2fc622f1d4e41": {
          "model_module": "@jupyter-widgets/controls",
          "model_name": "HBoxModel",
          "model_module_version": "1.5.0",
          "state": {
            "_dom_classes": [],
            "_model_module": "@jupyter-widgets/controls",
            "_model_module_version": "1.5.0",
            "_model_name": "HBoxModel",
            "_view_count": null,
            "_view_module": "@jupyter-widgets/controls",
            "_view_module_version": "1.5.0",
            "_view_name": "HBoxView",
            "box_style": "",
            "children": [
              "IPY_MODEL_4e7cbfd6107d4f30ae0faa62f5ff774d",
              "IPY_MODEL_23cc0c2f50454e4fb9805499794672a2",
              "IPY_MODEL_7e1b14fd72f24540a369b467115af246"
            ],
            "layout": "IPY_MODEL_ac6d35b994b044558e02cc900abf18ae"
          }
        },
        "4e7cbfd6107d4f30ae0faa62f5ff774d": {
          "model_module": "@jupyter-widgets/controls",
          "model_name": "HTMLModel",
          "model_module_version": "1.5.0",
          "state": {
            "_dom_classes": [],
            "_model_module": "@jupyter-widgets/controls",
            "_model_module_version": "1.5.0",
            "_model_name": "HTMLModel",
            "_view_count": null,
            "_view_module": "@jupyter-widgets/controls",
            "_view_module_version": "1.5.0",
            "_view_name": "HTMLView",
            "description": "",
            "description_tooltip": null,
            "layout": "IPY_MODEL_ea927936158b4e5ab3d6d0ebe6a9b4a9",
            "placeholder": "​",
            "style": "IPY_MODEL_bf6eb5db364042a6966d280672173379",
            "value": "pytorch_model.bin: 100%"
          }
        },
        "23cc0c2f50454e4fb9805499794672a2": {
          "model_module": "@jupyter-widgets/controls",
          "model_name": "FloatProgressModel",
          "model_module_version": "1.5.0",
          "state": {
            "_dom_classes": [],
            "_model_module": "@jupyter-widgets/controls",
            "_model_module_version": "1.5.0",
            "_model_name": "FloatProgressModel",
            "_view_count": null,
            "_view_module": "@jupyter-widgets/controls",
            "_view_module_version": "1.5.0",
            "_view_name": "ProgressView",
            "bar_style": "success",
            "description": "",
            "description_tooltip": null,
            "layout": "IPY_MODEL_4b70a3b0400c48c8a170816c3c82be02",
            "max": 354998269,
            "min": 0,
            "orientation": "horizontal",
            "style": "IPY_MODEL_0d5d6834204d427999546b06b3342a1f",
            "value": 354998269
          }
        },
        "7e1b14fd72f24540a369b467115af246": {
          "model_module": "@jupyter-widgets/controls",
          "model_name": "HTMLModel",
          "model_module_version": "1.5.0",
          "state": {
            "_dom_classes": [],
            "_model_module": "@jupyter-widgets/controls",
            "_model_module_version": "1.5.0",
            "_model_name": "HTMLModel",
            "_view_count": null,
            "_view_module": "@jupyter-widgets/controls",
            "_view_module_version": "1.5.0",
            "_view_name": "HTMLView",
            "description": "",
            "description_tooltip": null,
            "layout": "IPY_MODEL_e0d75410be044849915d3bd2323c343e",
            "placeholder": "​",
            "style": "IPY_MODEL_79d14b8e82224b0396975155e2d4fa62",
            "value": " 355M/355M [00:04&lt;00:00, 84.0MB/s]"
          }
        },
        "ac6d35b994b044558e02cc900abf18ae": {
          "model_module": "@jupyter-widgets/base",
          "model_name": "LayoutModel",
          "model_module_version": "1.2.0",
          "state": {
            "_model_module": "@jupyter-widgets/base",
            "_model_module_version": "1.2.0",
            "_model_name": "LayoutModel",
            "_view_count": null,
            "_view_module": "@jupyter-widgets/base",
            "_view_module_version": "1.2.0",
            "_view_name": "LayoutView",
            "align_content": null,
            "align_items": null,
            "align_self": null,
            "border": null,
            "bottom": null,
            "display": null,
            "flex": null,
            "flex_flow": null,
            "grid_area": null,
            "grid_auto_columns": null,
            "grid_auto_flow": null,
            "grid_auto_rows": null,
            "grid_column": null,
            "grid_gap": null,
            "grid_row": null,
            "grid_template_areas": null,
            "grid_template_columns": null,
            "grid_template_rows": null,
            "height": null,
            "justify_content": null,
            "justify_items": null,
            "left": null,
            "margin": null,
            "max_height": null,
            "max_width": null,
            "min_height": null,
            "min_width": null,
            "object_fit": null,
            "object_position": null,
            "order": null,
            "overflow": null,
            "overflow_x": null,
            "overflow_y": null,
            "padding": null,
            "right": null,
            "top": null,
            "visibility": null,
            "width": null
          }
        },
        "ea927936158b4e5ab3d6d0ebe6a9b4a9": {
          "model_module": "@jupyter-widgets/base",
          "model_name": "LayoutModel",
          "model_module_version": "1.2.0",
          "state": {
            "_model_module": "@jupyter-widgets/base",
            "_model_module_version": "1.2.0",
            "_model_name": "LayoutModel",
            "_view_count": null,
            "_view_module": "@jupyter-widgets/base",
            "_view_module_version": "1.2.0",
            "_view_name": "LayoutView",
            "align_content": null,
            "align_items": null,
            "align_self": null,
            "border": null,
            "bottom": null,
            "display": null,
            "flex": null,
            "flex_flow": null,
            "grid_area": null,
            "grid_auto_columns": null,
            "grid_auto_flow": null,
            "grid_auto_rows": null,
            "grid_column": null,
            "grid_gap": null,
            "grid_row": null,
            "grid_template_areas": null,
            "grid_template_columns": null,
            "grid_template_rows": null,
            "height": null,
            "justify_content": null,
            "justify_items": null,
            "left": null,
            "margin": null,
            "max_height": null,
            "max_width": null,
            "min_height": null,
            "min_width": null,
            "object_fit": null,
            "object_position": null,
            "order": null,
            "overflow": null,
            "overflow_x": null,
            "overflow_y": null,
            "padding": null,
            "right": null,
            "top": null,
            "visibility": null,
            "width": null
          }
        },
        "bf6eb5db364042a6966d280672173379": {
          "model_module": "@jupyter-widgets/controls",
          "model_name": "DescriptionStyleModel",
          "model_module_version": "1.5.0",
          "state": {
            "_model_module": "@jupyter-widgets/controls",
            "_model_module_version": "1.5.0",
            "_model_name": "DescriptionStyleModel",
            "_view_count": null,
            "_view_module": "@jupyter-widgets/base",
            "_view_module_version": "1.2.0",
            "_view_name": "StyleView",
            "description_width": ""
          }
        },
        "4b70a3b0400c48c8a170816c3c82be02": {
          "model_module": "@jupyter-widgets/base",
          "model_name": "LayoutModel",
          "model_module_version": "1.2.0",
          "state": {
            "_model_module": "@jupyter-widgets/base",
            "_model_module_version": "1.2.0",
            "_model_name": "LayoutModel",
            "_view_count": null,
            "_view_module": "@jupyter-widgets/base",
            "_view_module_version": "1.2.0",
            "_view_name": "LayoutView",
            "align_content": null,
            "align_items": null,
            "align_self": null,
            "border": null,
            "bottom": null,
            "display": null,
            "flex": null,
            "flex_flow": null,
            "grid_area": null,
            "grid_auto_columns": null,
            "grid_auto_flow": null,
            "grid_auto_rows": null,
            "grid_column": null,
            "grid_gap": null,
            "grid_row": null,
            "grid_template_areas": null,
            "grid_template_columns": null,
            "grid_template_rows": null,
            "height": null,
            "justify_content": null,
            "justify_items": null,
            "left": null,
            "margin": null,
            "max_height": null,
            "max_width": null,
            "min_height": null,
            "min_width": null,
            "object_fit": null,
            "object_position": null,
            "order": null,
            "overflow": null,
            "overflow_x": null,
            "overflow_y": null,
            "padding": null,
            "right": null,
            "top": null,
            "visibility": null,
            "width": null
          }
        },
        "0d5d6834204d427999546b06b3342a1f": {
          "model_module": "@jupyter-widgets/controls",
          "model_name": "ProgressStyleModel",
          "model_module_version": "1.5.0",
          "state": {
            "_model_module": "@jupyter-widgets/controls",
            "_model_module_version": "1.5.0",
            "_model_name": "ProgressStyleModel",
            "_view_count": null,
            "_view_module": "@jupyter-widgets/base",
            "_view_module_version": "1.2.0",
            "_view_name": "StyleView",
            "bar_color": null,
            "description_width": ""
          }
        },
        "e0d75410be044849915d3bd2323c343e": {
          "model_module": "@jupyter-widgets/base",
          "model_name": "LayoutModel",
          "model_module_version": "1.2.0",
          "state": {
            "_model_module": "@jupyter-widgets/base",
            "_model_module_version": "1.2.0",
            "_model_name": "LayoutModel",
            "_view_count": null,
            "_view_module": "@jupyter-widgets/base",
            "_view_module_version": "1.2.0",
            "_view_name": "LayoutView",
            "align_content": null,
            "align_items": null,
            "align_self": null,
            "border": null,
            "bottom": null,
            "display": null,
            "flex": null,
            "flex_flow": null,
            "grid_area": null,
            "grid_auto_columns": null,
            "grid_auto_flow": null,
            "grid_auto_rows": null,
            "grid_column": null,
            "grid_gap": null,
            "grid_row": null,
            "grid_template_areas": null,
            "grid_template_columns": null,
            "grid_template_rows": null,
            "height": null,
            "justify_content": null,
            "justify_items": null,
            "left": null,
            "margin": null,
            "max_height": null,
            "max_width": null,
            "min_height": null,
            "min_width": null,
            "object_fit": null,
            "object_position": null,
            "order": null,
            "overflow": null,
            "overflow_x": null,
            "overflow_y": null,
            "padding": null,
            "right": null,
            "top": null,
            "visibility": null,
            "width": null
          }
        },
        "79d14b8e82224b0396975155e2d4fa62": {
          "model_module": "@jupyter-widgets/controls",
          "model_name": "DescriptionStyleModel",
          "model_module_version": "1.5.0",
          "state": {
            "_model_module": "@jupyter-widgets/controls",
            "_model_module_version": "1.5.0",
            "_model_name": "DescriptionStyleModel",
            "_view_count": null,
            "_view_module": "@jupyter-widgets/base",
            "_view_module_version": "1.2.0",
            "_view_name": "StyleView",
            "description_width": ""
          }
        },
        "2cf45915fb4e40f78ba1c0e925764938": {
          "model_module": "@jupyter-widgets/controls",
          "model_name": "HBoxModel",
          "model_module_version": "1.5.0",
          "state": {
            "_dom_classes": [],
            "_model_module": "@jupyter-widgets/controls",
            "_model_module_version": "1.5.0",
            "_model_name": "HBoxModel",
            "_view_count": null,
            "_view_module": "@jupyter-widgets/controls",
            "_view_module_version": "1.5.0",
            "_view_name": "HBoxView",
            "box_style": "",
            "children": [
              "IPY_MODEL_fe26f6efd939424ca8d13628dde164ee",
              "IPY_MODEL_ae0a570072b241fe8cb7b9c6c0012e8f",
              "IPY_MODEL_0d6d5f9eb3da46208851cb15a9e87859"
            ],
            "layout": "IPY_MODEL_f3e81083c0f34d3398ecf923656a5055"
          }
        },
        "fe26f6efd939424ca8d13628dde164ee": {
          "model_module": "@jupyter-widgets/controls",
          "model_name": "HTMLModel",
          "model_module_version": "1.5.0",
          "state": {
            "_dom_classes": [],
            "_model_module": "@jupyter-widgets/controls",
            "_model_module_version": "1.5.0",
            "_model_name": "HTMLModel",
            "_view_count": null,
            "_view_module": "@jupyter-widgets/controls",
            "_view_module_version": "1.5.0",
            "_view_name": "HTMLView",
            "description": "",
            "description_tooltip": null,
            "layout": "IPY_MODEL_efd99bb4150d4cb2a728a672d66615e6",
            "placeholder": "​",
            "style": "IPY_MODEL_ffddf601b5bc413e9e7740cffa22d72a",
            "value": "preprocessor_config.json: 100%"
          }
        },
        "ae0a570072b241fe8cb7b9c6c0012e8f": {
          "model_module": "@jupyter-widgets/controls",
          "model_name": "FloatProgressModel",
          "model_module_version": "1.5.0",
          "state": {
            "_dom_classes": [],
            "_model_module": "@jupyter-widgets/controls",
            "_model_module_version": "1.5.0",
            "_model_name": "FloatProgressModel",
            "_view_count": null,
            "_view_module": "@jupyter-widgets/controls",
            "_view_module_version": "1.5.0",
            "_view_name": "ProgressView",
            "bar_style": "success",
            "description": "",
            "description_tooltip": null,
            "layout": "IPY_MODEL_c59fb42250924ef6b4beb3a1a752bfc7",
            "max": 352,
            "min": 0,
            "orientation": "horizontal",
            "style": "IPY_MODEL_6461a4cb59444e72827003082b7823ee",
            "value": 352
          }
        },
        "0d6d5f9eb3da46208851cb15a9e87859": {
          "model_module": "@jupyter-widgets/controls",
          "model_name": "HTMLModel",
          "model_module_version": "1.5.0",
          "state": {
            "_dom_classes": [],
            "_model_module": "@jupyter-widgets/controls",
            "_model_module_version": "1.5.0",
            "_model_name": "HTMLModel",
            "_view_count": null,
            "_view_module": "@jupyter-widgets/controls",
            "_view_module_version": "1.5.0",
            "_view_name": "HTMLView",
            "description": "",
            "description_tooltip": null,
            "layout": "IPY_MODEL_c0a7e2deed2a4167924b1e39545f5142",
            "placeholder": "​",
            "style": "IPY_MODEL_9c5011c655c3433983db0f045e35e548",
            "value": " 352/352 [00:00&lt;00:00, 29.9kB/s]"
          }
        },
        "f3e81083c0f34d3398ecf923656a5055": {
          "model_module": "@jupyter-widgets/base",
          "model_name": "LayoutModel",
          "model_module_version": "1.2.0",
          "state": {
            "_model_module": "@jupyter-widgets/base",
            "_model_module_version": "1.2.0",
            "_model_name": "LayoutModel",
            "_view_count": null,
            "_view_module": "@jupyter-widgets/base",
            "_view_module_version": "1.2.0",
            "_view_name": "LayoutView",
            "align_content": null,
            "align_items": null,
            "align_self": null,
            "border": null,
            "bottom": null,
            "display": null,
            "flex": null,
            "flex_flow": null,
            "grid_area": null,
            "grid_auto_columns": null,
            "grid_auto_flow": null,
            "grid_auto_rows": null,
            "grid_column": null,
            "grid_gap": null,
            "grid_row": null,
            "grid_template_areas": null,
            "grid_template_columns": null,
            "grid_template_rows": null,
            "height": null,
            "justify_content": null,
            "justify_items": null,
            "left": null,
            "margin": null,
            "max_height": null,
            "max_width": null,
            "min_height": null,
            "min_width": null,
            "object_fit": null,
            "object_position": null,
            "order": null,
            "overflow": null,
            "overflow_x": null,
            "overflow_y": null,
            "padding": null,
            "right": null,
            "top": null,
            "visibility": null,
            "width": null
          }
        },
        "efd99bb4150d4cb2a728a672d66615e6": {
          "model_module": "@jupyter-widgets/base",
          "model_name": "LayoutModel",
          "model_module_version": "1.2.0",
          "state": {
            "_model_module": "@jupyter-widgets/base",
            "_model_module_version": "1.2.0",
            "_model_name": "LayoutModel",
            "_view_count": null,
            "_view_module": "@jupyter-widgets/base",
            "_view_module_version": "1.2.0",
            "_view_name": "LayoutView",
            "align_content": null,
            "align_items": null,
            "align_self": null,
            "border": null,
            "bottom": null,
            "display": null,
            "flex": null,
            "flex_flow": null,
            "grid_area": null,
            "grid_auto_columns": null,
            "grid_auto_flow": null,
            "grid_auto_rows": null,
            "grid_column": null,
            "grid_gap": null,
            "grid_row": null,
            "grid_template_areas": null,
            "grid_template_columns": null,
            "grid_template_rows": null,
            "height": null,
            "justify_content": null,
            "justify_items": null,
            "left": null,
            "margin": null,
            "max_height": null,
            "max_width": null,
            "min_height": null,
            "min_width": null,
            "object_fit": null,
            "object_position": null,
            "order": null,
            "overflow": null,
            "overflow_x": null,
            "overflow_y": null,
            "padding": null,
            "right": null,
            "top": null,
            "visibility": null,
            "width": null
          }
        },
        "ffddf601b5bc413e9e7740cffa22d72a": {
          "model_module": "@jupyter-widgets/controls",
          "model_name": "DescriptionStyleModel",
          "model_module_version": "1.5.0",
          "state": {
            "_model_module": "@jupyter-widgets/controls",
            "_model_module_version": "1.5.0",
            "_model_name": "DescriptionStyleModel",
            "_view_count": null,
            "_view_module": "@jupyter-widgets/base",
            "_view_module_version": "1.2.0",
            "_view_name": "StyleView",
            "description_width": ""
          }
        },
        "c59fb42250924ef6b4beb3a1a752bfc7": {
          "model_module": "@jupyter-widgets/base",
          "model_name": "LayoutModel",
          "model_module_version": "1.2.0",
          "state": {
            "_model_module": "@jupyter-widgets/base",
            "_model_module_version": "1.2.0",
            "_model_name": "LayoutModel",
            "_view_count": null,
            "_view_module": "@jupyter-widgets/base",
            "_view_module_version": "1.2.0",
            "_view_name": "LayoutView",
            "align_content": null,
            "align_items": null,
            "align_self": null,
            "border": null,
            "bottom": null,
            "display": null,
            "flex": null,
            "flex_flow": null,
            "grid_area": null,
            "grid_auto_columns": null,
            "grid_auto_flow": null,
            "grid_auto_rows": null,
            "grid_column": null,
            "grid_gap": null,
            "grid_row": null,
            "grid_template_areas": null,
            "grid_template_columns": null,
            "grid_template_rows": null,
            "height": null,
            "justify_content": null,
            "justify_items": null,
            "left": null,
            "margin": null,
            "max_height": null,
            "max_width": null,
            "min_height": null,
            "min_width": null,
            "object_fit": null,
            "object_position": null,
            "order": null,
            "overflow": null,
            "overflow_x": null,
            "overflow_y": null,
            "padding": null,
            "right": null,
            "top": null,
            "visibility": null,
            "width": null
          }
        },
        "6461a4cb59444e72827003082b7823ee": {
          "model_module": "@jupyter-widgets/controls",
          "model_name": "ProgressStyleModel",
          "model_module_version": "1.5.0",
          "state": {
            "_model_module": "@jupyter-widgets/controls",
            "_model_module_version": "1.5.0",
            "_model_name": "ProgressStyleModel",
            "_view_count": null,
            "_view_module": "@jupyter-widgets/base",
            "_view_module_version": "1.2.0",
            "_view_name": "StyleView",
            "bar_color": null,
            "description_width": ""
          }
        },
        "c0a7e2deed2a4167924b1e39545f5142": {
          "model_module": "@jupyter-widgets/base",
          "model_name": "LayoutModel",
          "model_module_version": "1.2.0",
          "state": {
            "_model_module": "@jupyter-widgets/base",
            "_model_module_version": "1.2.0",
            "_model_name": "LayoutModel",
            "_view_count": null,
            "_view_module": "@jupyter-widgets/base",
            "_view_module_version": "1.2.0",
            "_view_name": "LayoutView",
            "align_content": null,
            "align_items": null,
            "align_self": null,
            "border": null,
            "bottom": null,
            "display": null,
            "flex": null,
            "flex_flow": null,
            "grid_area": null,
            "grid_auto_columns": null,
            "grid_auto_flow": null,
            "grid_auto_rows": null,
            "grid_column": null,
            "grid_gap": null,
            "grid_row": null,
            "grid_template_areas": null,
            "grid_template_columns": null,
            "grid_template_rows": null,
            "height": null,
            "justify_content": null,
            "justify_items": null,
            "left": null,
            "margin": null,
            "max_height": null,
            "max_width": null,
            "min_height": null,
            "min_width": null,
            "object_fit": null,
            "object_position": null,
            "order": null,
            "overflow": null,
            "overflow_x": null,
            "overflow_y": null,
            "padding": null,
            "right": null,
            "top": null,
            "visibility": null,
            "width": null
          }
        },
        "9c5011c655c3433983db0f045e35e548": {
          "model_module": "@jupyter-widgets/controls",
          "model_name": "DescriptionStyleModel",
          "model_module_version": "1.5.0",
          "state": {
            "_model_module": "@jupyter-widgets/controls",
            "_model_module_version": "1.5.0",
            "_model_name": "DescriptionStyleModel",
            "_view_count": null,
            "_view_module": "@jupyter-widgets/base",
            "_view_module_version": "1.2.0",
            "_view_name": "StyleView",
            "description_width": ""
          }
        }
      }
    }
  },
  "nbformat": 4,
  "nbformat_minor": 0
}
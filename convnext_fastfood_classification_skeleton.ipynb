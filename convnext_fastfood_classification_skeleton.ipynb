{
  "cells": [
    {
      "cell_type": "markdown",
      "metadata": {
        "id": "view-in-github",
        "colab_type": "text"
      },
      "source": [
        "<a href=\"https://colab.research.google.com/github/MOOWOO/fastfood-classification/blob/main/convnext_fastfood_classification_skeleton.ipynb\" target=\"_parent\"><img src=\"https://colab.research.google.com/assets/colab-badge.svg\" alt=\"Open In Colab\"/></a>"
      ]
    },
    {
      "cell_type": "markdown",
      "metadata": {
        "id": "ETEN8KLExPbn"
      },
      "source": [
        "#Set up Environment & Prepare the Dataset"
      ]
    },
    {
      "cell_type": "code",
      "source": [
        "# Set up Environment & Prepare the Dataset\n",
        "!pip install torch torchvision torchaudio transformers"
      ],
      "metadata": {
        "id": "AXHGK8WA2ifW",
        "colab": {
          "base_uri": "https://localhost:8080/"
        },
        "outputId": "0af75607-c444-4f79-fe1b-85b35534c1c4"
      },
      "execution_count": 1,
      "outputs": [
        {
          "output_type": "stream",
          "name": "stdout",
          "text": [
            "Requirement already satisfied: torch in /usr/local/lib/python3.10/dist-packages (2.4.1+cu121)\n",
            "Requirement already satisfied: torchvision in /usr/local/lib/python3.10/dist-packages (0.19.1+cu121)\n",
            "Requirement already satisfied: torchaudio in /usr/local/lib/python3.10/dist-packages (2.4.1+cu121)\n",
            "Requirement already satisfied: transformers in /usr/local/lib/python3.10/dist-packages (4.44.2)\n",
            "Requirement already satisfied: filelock in /usr/local/lib/python3.10/dist-packages (from torch) (3.16.1)\n",
            "Requirement already satisfied: typing-extensions>=4.8.0 in /usr/local/lib/python3.10/dist-packages (from torch) (4.12.2)\n",
            "Requirement already satisfied: sympy in /usr/local/lib/python3.10/dist-packages (from torch) (1.13.3)\n",
            "Requirement already satisfied: networkx in /usr/local/lib/python3.10/dist-packages (from torch) (3.4)\n",
            "Requirement already satisfied: jinja2 in /usr/local/lib/python3.10/dist-packages (from torch) (3.1.4)\n",
            "Requirement already satisfied: fsspec in /usr/local/lib/python3.10/dist-packages (from torch) (2024.6.1)\n",
            "Requirement already satisfied: numpy in /usr/local/lib/python3.10/dist-packages (from torchvision) (1.26.4)\n",
            "Requirement already satisfied: pillow!=8.3.*,>=5.3.0 in /usr/local/lib/python3.10/dist-packages (from torchvision) (10.4.0)\n",
            "Requirement already satisfied: huggingface-hub<1.0,>=0.23.2 in /usr/local/lib/python3.10/dist-packages (from transformers) (0.24.7)\n",
            "Requirement already satisfied: packaging>=20.0 in /usr/local/lib/python3.10/dist-packages (from transformers) (24.1)\n",
            "Requirement already satisfied: pyyaml>=5.1 in /usr/local/lib/python3.10/dist-packages (from transformers) (6.0.2)\n",
            "Requirement already satisfied: regex!=2019.12.17 in /usr/local/lib/python3.10/dist-packages (from transformers) (2024.9.11)\n",
            "Requirement already satisfied: requests in /usr/local/lib/python3.10/dist-packages (from transformers) (2.32.3)\n",
            "Requirement already satisfied: safetensors>=0.4.1 in /usr/local/lib/python3.10/dist-packages (from transformers) (0.4.5)\n",
            "Requirement already satisfied: tokenizers<0.20,>=0.19 in /usr/local/lib/python3.10/dist-packages (from transformers) (0.19.1)\n",
            "Requirement already satisfied: tqdm>=4.27 in /usr/local/lib/python3.10/dist-packages (from transformers) (4.66.5)\n",
            "Requirement already satisfied: MarkupSafe>=2.0 in /usr/local/lib/python3.10/dist-packages (from jinja2->torch) (3.0.1)\n",
            "Requirement already satisfied: charset-normalizer<4,>=2 in /usr/local/lib/python3.10/dist-packages (from requests->transformers) (3.4.0)\n",
            "Requirement already satisfied: idna<4,>=2.5 in /usr/local/lib/python3.10/dist-packages (from requests->transformers) (3.10)\n",
            "Requirement already satisfied: urllib3<3,>=1.21.1 in /usr/local/lib/python3.10/dist-packages (from requests->transformers) (2.2.3)\n",
            "Requirement already satisfied: certifi>=2017.4.17 in /usr/local/lib/python3.10/dist-packages (from requests->transformers) (2024.8.30)\n",
            "Requirement already satisfied: mpmath<1.4,>=1.1.0 in /usr/local/lib/python3.10/dist-packages (from sympy->torch) (1.3.0)\n"
          ]
        }
      ]
    },
    {
      "cell_type": "code",
      "execution_count": 2,
      "metadata": {
        "id": "IgZGzjdKxPbt"
      },
      "outputs": [],
      "source": [
        "# Import necessary libraries\n",
        "import os\n",
        "import numpy as np\n",
        "import pandas as pd\n",
        "import torch\n",
        "import torch.nn as nn\n",
        "import torch.optim as optim\n",
        "from torch.utils.data import DataLoader, TensorDataset\n",
        "from PIL import Image\n",
        "from transformers import ConvNextForImageClassification, ConvNextImageProcessor\n",
        "from torchvision import transforms\n",
        "import matplotlib.pyplot as plt\n",
        "import seaborn as sns\n",
        "from sklearn.model_selection import train_test_split\n",
        "from tensorflow.keras.preprocessing.image import ImageDataGenerator\n",
        "from sklearn.utils.class_weight import compute_class_weight\n",
        "import zipfile\n",
        "from google.colab import drive\n",
        "import torch.optim as optim\n",
        "import torch.nn.functional as F\n",
        "%matplotlib inline"
      ]
    },
    {
      "cell_type": "code",
      "execution_count": 3,
      "metadata": {
        "id": "X9eMp9hKZmOl",
        "colab": {
          "base_uri": "https://localhost:8080/"
        },
        "outputId": "cfc909c7-1098-45dd-9729-20da5ac98399"
      },
      "outputs": [
        {
          "output_type": "stream",
          "name": "stdout",
          "text": [
            "Using device: cuda\n",
            "Mounted at /content/drive\n"
          ]
        }
      ],
      "source": [
        "# Check if GPU is available\n",
        "device = torch.device(\"cuda\" if torch.cuda.is_available() else \"cpu\")\n",
        "print(f\"Using device: {device}\")\n",
        "\n",
        "# Mount Google Drive\n",
        "drive.mount('/content/drive')"
      ]
    },
    {
      "cell_type": "code",
      "execution_count": 4,
      "metadata": {
        "id": "k1XQZQUm72yF"
      },
      "outputs": [],
      "source": [
        "# Define utility functions\n",
        "def extract_zip(filename, input_path, output_base_path):\n",
        "    output_path = os.path.join(output_base_path, filename)\n",
        "    os.makedirs(output_path, exist_ok=True)\n",
        "    with zipfile.ZipFile(input_path, 'r') as zip_file:\n",
        "        zip_file.extractall(output_path)\n",
        "    print(f\"Extracted {filename}.zip to {output_path}.\")\n",
        "\n",
        "def get_classes_for_dataset(filename, base_path):\n",
        "    data_path = os.path.join(base_path, filename)\n",
        "    classes = sorted(os.listdir(data_path))\n",
        "    classes_dict = {i: item for i, item in enumerate(classes)}\n",
        "    classes_rev = {value: key for key, value in classes_dict.items()}\n",
        "    return classes_dict, classes_rev"
      ]
    },
    {
      "cell_type": "code",
      "execution_count": 5,
      "metadata": {
        "id": "B4q7TC4OxPbw",
        "colab": {
          "base_uri": "https://localhost:8080/"
        },
        "outputId": "fb99c714-b5f3-46af-e7f0-44c70a40cb5b"
      },
      "outputs": [
        {
          "output_type": "stream",
          "name": "stdout",
          "text": [
            "Extracted Train.zip to ./data/Train.\n",
            "Extracted Test.zip to ./data/Test.\n"
          ]
        }
      ],
      "source": [
        "# Dataset paths\n",
        "source_path = '/content/drive/MyDrive/fastfood'\n",
        "target_base_path = './data'\n",
        "train_filename = \"Train\"\n",
        "test_filename = \"Test\"\n",
        "\n",
        "# Extract Train and Test datasets\n",
        "extract_zip(train_filename, os.path.join(source_path, train_filename + \".zip\"), target_base_path)\n",
        "extract_zip(test_filename, os.path.join(source_path, test_filename + \".zip\"), target_base_path)\n",
        "\n",
        "# Load classes and map them\n",
        "train_classes, train_classes_rev = get_classes_for_dataset(train_filename, target_base_path)\n"
      ]
    },
    {
      "cell_type": "code",
      "execution_count": 6,
      "metadata": {
        "id": "5rcifaD9hH68"
      },
      "outputs": [],
      "source": [
        "# Preprocess the dataset\n",
        "def preprocess_data(data_dir, class_rev, image_size=(224, 224)):\n",
        "    data, labels = [], []\n",
        "    for class_name, class_idx in class_rev.items():\n",
        "        img_dir = os.path.join(data_dir, class_name)\n",
        "        for image_name in os.listdir(img_dir):\n",
        "            img = Image.open(os.path.join(img_dir, image_name)).convert(\"RGB\").resize(image_size)\n",
        "            data.append(np.array(img).astype('float32') / 255)\n",
        "            labels.append(class_idx)\n",
        "    return np.array(data), np.array(labels)\n"
      ]
    },
    {
      "cell_type": "code",
      "execution_count": 7,
      "metadata": {
        "id": "XFBGX3-5900x",
        "colab": {
          "base_uri": "https://localhost:8080/"
        },
        "outputId": "8449ca61-5586-4cc8-cb26-01c0d286bd7a"
      },
      "outputs": [
        {
          "output_type": "stream",
          "name": "stderr",
          "text": [
            "/usr/local/lib/python3.10/dist-packages/PIL/Image.py:1056: UserWarning: Palette images with Transparency expressed in bytes should be converted to RGBA images\n",
            "  warnings.warn(\n"
          ]
        }
      ],
      "source": [
        "data, labels = preprocess_data(os.path.join(target_base_path, train_filename), train_classes_rev)\n"
      ]
    },
    {
      "cell_type": "code",
      "source": [
        "# **Plot class distribution**\n",
        "def plot_class_distribution(labels, class_mapping):\n",
        "    train_label_str = [key for label_int in labels.tolist() for key, value in class_mapping.items() if value == label_int]\n",
        "    df_train_label = pd.DataFrame(train_label_str, columns=['label'])\n",
        "    plt.figure(figsize=(10, 6))\n",
        "    ax = sns.countplot(x='label', data=df_train_label, order=list(class_mapping.keys()))\n",
        "    ax.set_title('Train Label Distribution')\n",
        "    plt.xticks(rotation=45, ha=\"right\")\n",
        "    plt.show()"
      ],
      "metadata": {
        "id": "DHsvopVALmsa"
      },
      "execution_count": 8,
      "outputs": []
    },
    {
      "cell_type": "code",
      "source": [
        "# Call plot function to visualize label distribution\n",
        "plot_class_distribution(labels, train_classes_rev)"
      ],
      "metadata": {
        "id": "-TthVGmfLp-w",
        "colab": {
          "base_uri": "https://localhost:8080/",
          "height": 633
        },
        "outputId": "ec006201-0913-4451-f4c9-443301a4fad2"
      },
      "execution_count": 9,
      "outputs": [
        {
          "output_type": "display_data",
          "data": {
            "text/plain": [
              "<Figure size 1000x600 with 1 Axes>"
            ],
            "image/png": "[encoded data removed]"
          },
          "metadata": {}
        }
      ]
    },
    {
      "cell_type": "code",
      "source": [
        "# Data augmentation using ImageDataGenerator\n",
        "def augment_data(X_train, y_train):\n",
        "    # Ensure the input data has the right dimensions (batch_size, height, width, channels)\n",
        "    if X_train.ndim == 3:\n",
        "        X_train = np.expand_dims(X_train, axis=-1)  # If the data is missing the channel dimension, add it\n",
        "\n",
        "    generator = ImageDataGenerator(\n",
        "        rotation_range=20,\n",
        "        width_shift_range=0.2,\n",
        "        height_shift_range=0.2,\n",
        "        horizontal_flip=True,\n",
        "        zoom_range=0.2,\n",
        "        shear_range=0.1,\n",
        "    )\n",
        "\n",
        "    # Fit the generator to the data\n",
        "    generator.fit(X_train)\n",
        "\n",
        "    # Augment the data (retain the 4D shape: batch, height, width, channels)\n",
        "    aug1 = next(generator.flow(X_train, batch_size=len(X_train), shuffle=False))\n",
        "    aug2 = next(generator.flow(X_train, batch_size=len(X_train), shuffle=False))\n",
        "\n",
        "    # Concatenate the original and augmented data\n",
        "    X_train_aug = np.concatenate((X_train, aug1, aug2))\n",
        "    y_train_aug = np.concatenate((y_train, y_train, y_train))\n",
        "\n",
        "    return X_train_aug, y_train_aug"
      ],
      "metadata": {
        "id": "nW3izycqLsA7"
      },
      "execution_count": 10,
      "outputs": []
    },
    {
      "cell_type": "code",
      "source": [
        "def augment_class_data(X_train, y_train, class_name, class_rev, augmentation_factor=2):\n",
        "    class_idx = class_rev[class_name]\n",
        "    class_data = X_train[y_train == class_idx]\n",
        "    class_labels = y_train[y_train == class_idx]\n",
        "\n",
        "    augmented_data = np.concatenate([class_data for _ in range(augmentation_factor)], axis=0)\n",
        "    augmented_labels = np.array([class_idx] * augmented_data.shape[0])\n",
        "\n",
        "    return np.concatenate([X_train, augmented_data], axis=0), np.concatenate([y_train, augmented_labels], axis=0)"
      ],
      "metadata": {
        "id": "obf2gQvWn2_p"
      },
      "execution_count": 11,
      "outputs": []
    },
    {
      "cell_type": "code",
      "source": [
        "# MixUp 적용\n",
        "def mixup_data(x, y, alpha=0.2):\n",
        "    '''Returns mixed inputs, pairs of targets, and lambda'''\n",
        "    if alpha > 0:\n",
        "        lam = np.random.beta(alpha, alpha)\n",
        "    else:\n",
        "        lam = 1\n",
        "\n",
        "    batch_size = x.shape[0]\n",
        "    index = np.random.permutation(batch_size)\n",
        "\n",
        "    mixed_x = lam * x + (1 - lam) * x[index, :]\n",
        "    y_a, y_b = y, y[index]\n",
        "    return mixed_x, y_a, y_b, lam"
      ],
      "metadata": {
        "id": "cikPMPvJLstB"
      },
      "execution_count": 12,
      "outputs": []
    },
    {
      "cell_type": "code",
      "source": [
        "def mixup_criterion(criterion, pred, y_a, y_b, lam):\n",
        "    return lam * criterion(pred, y_a) + (1 - lam) * criterion(pred, y_b)\n"
      ],
      "metadata": {
        "id": "6GF4y01MLwOE"
      },
      "execution_count": 13,
      "outputs": []
    },
    {
      "cell_type": "code",
      "source": [
        "# Augment training data with MixUp\n",
        "X_train, X_test, y_train, y_test = train_test_split(data, labels, test_size=0.2, random_state=42)\n",
        "X_train, y_train = augment_data(X_train, y_train)\n",
        "\n"
      ],
      "metadata": {
        "id": "GwR6U9ryL08V"
      },
      "execution_count": 14,
      "outputs": []
    },
    {
      "cell_type": "code",
      "source": [
        "X_train, y_train = augment_class_data(X_train, y_train, 'Baked Potato', train_classes_rev, augmentation_factor=2)\n",
        "X_train, y_train = augment_class_data(X_train, y_train, 'Burger', train_classes_rev, augmentation_factor=2)\n",
        "X_train, y_train = augment_class_data(X_train, y_train, 'Crispy Chicken', train_classes_rev, augmentation_factor=2)\n",
        "X_train, y_train = augment_class_data(X_train, y_train, 'Donut', train_classes_rev, augmentation_factor=2)\n",
        "X_train, y_train = augment_class_data(X_train, y_train, 'Fries', train_classes_rev, augmentation_factor=2)"
      ],
      "metadata": {
        "id": "mBJpIchbnxey"
      },
      "execution_count": 15,
      "outputs": []
    },
    {
      "cell_type": "code",
      "source": [
        "# Compute class weights\n",
        "class_weight = compute_class_weight(class_weight=\"balanced\", classes=np.unique(labels), y=labels)\n",
        "class_weight = {i: class_weight[i] for i in range(len(np.unique(labels)))}\n"
      ],
      "metadata": {
        "id": "XeqwM_7EL1PZ"
      },
      "execution_count": 16,
      "outputs": []
    },
    {
      "cell_type": "code",
      "source": [
        "# Self-Attention Layer 정의\n",
        "class SelfAttention(nn.Module):\n",
        "    def __init__(self, input_dim, hidden_dim):\n",
        "        super(SelfAttention, self).__init__()\n",
        "        self.query = nn.Linear(input_dim, hidden_dim)\n",
        "        self.key = nn.Linear(input_dim, hidden_dim)\n",
        "        self.value = nn.Linear(input_dim, hidden_dim)\n",
        "        self.hidden_dim = hidden_dim\n",
        "\n",
        "    def forward(self, x):\n",
        "        # x should have shape (batch_size, seq_len, input_dim)\n",
        "        Q = self.query(x)\n",
        "        K = self.key(x)\n",
        "        V = self.value(x)\n",
        "\n",
        "        # Attention matrix (batch_size, seq_len, seq_len)\n",
        "        attention_scores = torch.softmax(torch.bmm(Q, K.transpose(1, 2)) / (self.hidden_dim ** 0.5), dim=-1)\n",
        "        attention_output = torch.bmm(attention_scores, V)\n",
        "\n",
        "        return attention_output\n",
        "\n",
        "# ConvNeXt 모델 확장 (pre-trained ConvNeXt에 Self-Attention 추가)\n",
        "class ConvNextWithAttention(nn.Module):\n",
        "    def __init__(self, num_classes):\n",
        "        super(ConvNextWithAttention, self).__init__()\n",
        "        self.convnext = ConvNextForImageClassification.from_pretrained(\n",
        "            'facebook/convnext-tiny-224',\n",
        "            num_labels=num_classes,\n",
        "            ignore_mismatched_sizes=True\n",
        "        )\n",
        "\n",
        "        # ConvNeXt의 feature dimension 가져옴\n",
        "        convnext_output_dim = self.convnext.classifier.in_features\n",
        "\n",
        "        # Self-Attention Layer 추가\n",
        "        hidden_dim = convnext_output_dim  # Self-Attention의 hidden_dim을 convnext_output_dim으로 설정\n",
        "        self.attention = SelfAttention(convnext_output_dim, hidden_dim)\n",
        "\n",
        "        # Fully connected layer (Classifier)\n",
        "        self.fc = nn.Linear(hidden_dim, num_classes)\n",
        "\n",
        "    def forward(self, x):\n",
        "        # ConvNeXt의 피처 추출 부분 (batch_size, channels, height, width)\n",
        "        output = self.convnext.convnext(x)  # ConvNeXt 출력은 BaseModelOutputWithPoolingAndNoAttention 객체\n",
        "\n",
        "        # ConvNeXt의 last_hidden_state 가져오기 (batch_size, channels, height, width)\n",
        "        x = output.last_hidden_state\n",
        "\n",
        "        # x의 차원을 (batch_size, seq_len, feature_dim)으로 변환\n",
        "        batch_size, feature_dim, height, width = x.shape\n",
        "        seq_len = height * width  # seq_len으로 height와 width를 곱함\n",
        "        x = x.view(batch_size, feature_dim, seq_len).permute(0, 2, 1)  # (batch_size, seq_len, feature_dim)\n",
        "\n",
        "        # Self-Attention 적용\n",
        "        x = self.attention(x)\n",
        "\n",
        "        # Global Average Pooling (batch_size, hidden_dim)\n",
        "        x = torch.mean(x, dim=1)\n",
        "\n",
        "        # Fully connected layer (Classifier)\n",
        "        x = self.fc(x)\n",
        "\n",
        "        return x\n",
        "\n",
        "# 모델 인스턴스 생성 및 장치로 이동\n",
        "num_classes = len(np.unique(labels))  # 데이터셋에서 고유 클래스 개수\n",
        "model = ConvNextWithAttention(num_classes).to(device)\n",
        "\n",
        "# 이미지 프로세서 로드\n",
        "image_processor = ConvNextImageProcessor.from_pretrained('facebook/convnext-tiny-224')"
      ],
      "metadata": {
        "id": "AHkwe1RAL4X1",
        "colab": {
          "base_uri": "https://localhost:8080/",
          "height": 312,
          "referenced_widgets": [
            "5224043efafd4851b419eb05685e711e",
            "2e2f35b6406d4d989435288296b399e7",
            "41827b3d90014ca489df5fb7ce98abf8",
            "804c3dffe0cc406389fe881e50d58d34",
            "7c9325102c124d26b8c980ee3cca9c9e",
            "c36978070f8a446bb661c0a79909651a",
            "01fe57300cb845b684892e1b90bd44c8",
            "31c9114394f04cc594fe33605a5f8727",
            "90b325f356384d7c8edf8afeed91ea59",
            "2a0d1e33b5974098b6da323a27a50538",
            "2320ee024ebf4d95a6d2a702e65d9908",
            "b3d0f9f9992e43b99c9f9ef7c72d5e4c",
            "2e5f6fb548da4385ad7373a581ca8214",
            "0a29cac89725450882a11459052fb6bc",
            "3abeec9e707e43d9adf0a5fd028b3715",
            "a5992e39f90a40899fc06e7d75f3b080",
            "2a9893de61bd4550a61b9b21304f206d",
            "f3f5eca8b23441a4891f9407f19530df",
            "cb665be5809b4c3080004c466e89c35f",
            "5cc7f56b58eb47239c2d44d0b87eb691",
            "db433bf15f9742eb8348f53dc3f36bf6",
            "5c92f8d17f3c423ca95c46cfce709595",
            "bbe4394a491e43368c89070c8e099a75",
            "b21ea0388a3a4673b6bc94e67050b736",
            "0e2d5707a3b3455594c9d3cb9a1ba212",
            "915ed6cd34ce4753b247e003778084c5",
            "eb3b51ccaa9341e8afcaf0d670aaa8c3",
            "a37cf3c8275040cdb8bfc74f5c957381",
            "d539319d67ce4220984f6cf33e018fb0",
            "6d07581f9f3b497f82e157692cf656f3",
            "ad66f368e82d427e875f27239e66b7de",
            "358a160133354916b79fa875117160d3",
            "14ed8a778e604765a22946a4b35e43ce"
          ]
        },
        "outputId": "56eca507-3b5d-4e46-d73e-819266db823b"
      },
      "execution_count": 17,
      "outputs": [
        {
          "output_type": "stream",
          "name": "stderr",
          "text": [
            "/usr/local/lib/python3.10/dist-packages/huggingface_hub/utils/_token.py:89: UserWarning: \n",
            "The secret `HF_TOKEN` does not exist in your Colab secrets.\n",
            "To authenticate with the Hugging Face Hub, create a token in your settings tab (https://huggingface.co/settings/tokens), set it as secret in your Google Colab and restart your session.\n",
            "You will be able to reuse this secret in all of your notebooks.\n",
            "Please note that authentication is recommended but still optional to access public models or datasets.\n",
            "  warnings.warn(\n"
          ]
        },
        {
          "output_type": "display_data",
          "data": {
            "text/plain": [
              "config.json:   0%|          | 0.00/69.6k [00:00<?, ?B/s]"
            ],
            "application/vnd.jupyter.widget-view+json": {
              "version_major": 2,
              "version_minor": 0,
              "model_id": "5224043efafd4851b419eb05685e711e"
            }
          },
          "metadata": {}
        },
        {
          "output_type": "display_data",
          "data": {
            "text/plain": [
              "pytorch_model.bin:   0%|          | 0.00/114M [00:00<?, ?B/s]"
            ],
            "application/vnd.jupyter.widget-view+json": {
              "version_major": 2,
              "version_minor": 0,
              "model_id": "b3d0f9f9992e43b99c9f9ef7c72d5e4c"
            }
          },
          "metadata": {}
        },
        {
          "output_type": "stream",
          "name": "stderr",
          "text": [
            "Some weights of ConvNextForImageClassification were not initialized from the model checkpoint at facebook/convnext-tiny-224 and are newly initialized because the shapes did not match:\n",
            "- classifier.weight: found shape torch.Size([1000, 768]) in the checkpoint and torch.Size([10, 768]) in the model instantiated\n",
            "- classifier.bias: found shape torch.Size([1000]) in the checkpoint and torch.Size([10]) in the model instantiated\n",
            "You should probably TRAIN this model on a down-stream task to be able to use it for predictions and inference.\n"
          ]
        },
        {
          "output_type": "display_data",
          "data": {
            "text/plain": [
              "preprocessor_config.json:   0%|          | 0.00/266 [00:00<?, ?B/s]"
            ],
            "application/vnd.jupyter.widget-view+json": {
              "version_major": 2,
              "version_minor": 0,
              "model_id": "bbe4394a491e43368c89070c8e099a75"
            }
          },
          "metadata": {}
        }
      ]
    },
    {
      "cell_type": "code",
      "source": [
        "# ConvNeXT 모델의 모든 파라미터의 requires_grad를 False로 설정\n",
        "for param in model.convnext.parameters():\n",
        "    param.requires_grad = False\n",
        "\n",
        "# Self-Attention 레이어와 Classifier 레이어만 학습 가능하게 설정\n",
        "for param in model.attention.parameters():  # Self-Attention 레이어 파라미터\n",
        "    param.requires_grad = True\n",
        "\n",
        "for param in model.fc.parameters():  # Classifier 부분 파라미터\n",
        "    param.requires_grad = True"
      ],
      "metadata": {
        "id": "1_mYlZPXO8va"
      },
      "execution_count": 18,
      "outputs": []
    },
    {
      "cell_type": "code",
      "source": [
        "# Define data transforms\n",
        "def get_transform(is_train=True):\n",
        "    if is_train:\n",
        "        return transforms.Compose([\n",
        "            transforms.Resize((224, 224)),\n",
        "            transforms.RandomHorizontalFlip(),\n",
        "            transforms.ToTensor(),\n",
        "            transforms.Normalize(mean=image_processor.image_mean, std=image_processor.image_std)\n",
        "        ])\n",
        "    else:\n",
        "        return transforms.Compose([\n",
        "            transforms.Resize((224, 224)),\n",
        "            transforms.ToTensor(),\n",
        "            transforms.Normalize(mean=image_processor.image_mean, std=image_processor.image_std)\n",
        "        ])\n"
      ],
      "metadata": {
        "id": "HlOiid8RL6mY"
      },
      "execution_count": 19,
      "outputs": []
    },
    {
      "cell_type": "code",
      "source": [
        "# Prepare dataset and DataLoader\n",
        "def prepare_data_loaders(X_train, y_train, batch_size=64):\n",
        "    X_train_tensor = torch.tensor(X_train, dtype=torch.float32).permute(0, 3, 1, 2)\n",
        "    y_train_tensor = torch.tensor(y_train, dtype=torch.long)\n",
        "    dataset = TensorDataset(X_train_tensor, y_train_tensor)\n",
        "    train_size = int(0.8 * len(dataset))\n",
        "    val_size = len(dataset) - train_size\n",
        "    train_dataset, val_dataset = torch.utils.data.random_split(dataset, [train_size, val_size])\n",
        "    train_loader = DataLoader(train_dataset, batch_size=batch_size, shuffle=True)\n",
        "    val_loader = DataLoader(val_dataset, batch_size=batch_size)\n",
        "    return train_loader, val_loader"
      ],
      "metadata": {
        "id": "kEnqLpdCL7TY"
      },
      "execution_count": 20,
      "outputs": []
    },
    {
      "cell_type": "code",
      "source": [
        "train_loader, val_loader = prepare_data_loaders(X_train, y_train)"
      ],
      "metadata": {
        "id": "_tOx9utIL9L6"
      },
      "execution_count": 21,
      "outputs": []
    },
    {
      "cell_type": "code",
      "source": [
        "# Define the Early Stopping class\n",
        "class EarlyStopping:\n",
        "    def __init__(self, patience=5, delta=0.001):\n",
        "        self.patience = patience  # 몇 번의 에포크 동안 개선이 없으면 중단\n",
        "        self.delta = delta  # 개선이라고 판단할 최소한의 변화량\n",
        "        self.best_loss = None\n",
        "        self.counter = 0\n",
        "        self.early_stop = False\n",
        "\n",
        "    def __call__(self, val_loss):\n",
        "        if self.best_loss is None or val_loss < self.best_loss - self.delta:\n",
        "            self.best_loss = val_loss\n",
        "            self.counter = 0\n",
        "        else:\n",
        "            self.counter += 1\n",
        "            if self.counter >= self.patience:\n",
        "                self.early_stop = True"
      ],
      "metadata": {
        "id": "lLP-OLuRM1Iv"
      },
      "execution_count": 32,
      "outputs": []
    },
    {
      "cell_type": "code",
      "source": [
        "# Training and validation functions with logging, regularization, and early stopping\n",
        "def train_model_with_logging(model, train_loader, val_loader, epochs=1000, lr=1e-4, mixup_alpha=0.2, weight_decay=1e-4):\n",
        "    # Weight decay adds L2 regularization\n",
        "    optimizer = optim.AdamW(model.parameters(), lr=lr, weight_decay=weight_decay)\n",
        "    criterion = nn.CrossEntropyLoss()\n",
        "\n",
        "    # Early stopping setup\n",
        "    early_stopping = EarlyStopping(patience=5, delta=0.001)\n",
        "\n",
        "    # 기록 저장용 리스트\n",
        "    train_losses = []\n",
        "    val_losses = []\n",
        "    train_accuracies = []\n",
        "    val_accuracies = []\n",
        "\n",
        "    for epoch in range(epochs):\n",
        "        model.train()\n",
        "        running_loss = 0\n",
        "        correct_train = 0\n",
        "        total_train = 0\n",
        "\n",
        "        for data, target in train_loader:\n",
        "            data, target = data.to(device), target.to(device)\n",
        "\n",
        "            optimizer.zero_grad()\n",
        "\n",
        "            # Apply MixUp\n",
        "            mixed_data, y_a, y_b, lam = mixup_data(data, target, alpha=mixup_alpha)\n",
        "            mixed_data, y_a, y_b = mixed_data.to(device), y_a.to(device), y_b.to(device)\n",
        "\n",
        "            # ConvNeXt 출력이 Tensor로 나오므로 .logits 참조를 제거\n",
        "            output = model(mixed_data)\n",
        "\n",
        "            loss = mixup_criterion(criterion, output, y_a, y_b, lam)\n",
        "            loss.backward()\n",
        "            optimizer.step()\n",
        "\n",
        "            running_loss += loss.item()\n",
        "            _, predicted = torch.max(output, 1)\n",
        "            correct_train += (predicted == y_a).sum().item()\n",
        "            total_train += y_a.size(0)\n",
        "\n",
        "        # 학습 손실 및 정확도 기록\n",
        "        train_loss = running_loss / len(train_loader)\n",
        "        train_acc = 100. * correct_train / total_train\n",
        "        train_losses.append(train_loss)\n",
        "        train_accuracies.append(train_acc)\n",
        "\n",
        "        print(f\"Epoch [{epoch+1}/{epochs}], Loss: {train_loss:.4f}, Accuracy: {train_acc:.2f}%\")\n",
        "\n",
        "        # 검증 손실 및 정확도 기록\n",
        "        val_loss, val_acc = validate_model(model, val_loader, criterion)\n",
        "        val_losses.append(val_loss)\n",
        "        val_accuracies.append(val_acc)\n",
        "\n",
        "        print(f\"Validation Loss: {val_loss:.4f}, Validation Accuracy: {val_acc:.2f}%\")\n",
        "\n",
        "        # Early Stopping 체크\n",
        "        early_stopping(val_loss)\n",
        "        if early_stopping.early_stop:\n",
        "            print(f\"Early stopping at epoch {epoch + 1}\")\n",
        "            break\n",
        "\n",
        "    return train_losses, val_losses, train_accuracies, val_accuracies\n"
      ],
      "metadata": {
        "id": "_dVt3iqbL-Zj"
      },
      "execution_count": 33,
      "outputs": []
    },
    {
      "cell_type": "code",
      "source": [
        "def validate_model(model, val_loader, criterion):\n",
        "    model.eval()\n",
        "    val_loss = 0\n",
        "    correct = 0\n",
        "    total = 0\n",
        "    with torch.no_grad():\n",
        "        for data, target in val_loader:\n",
        "            data, target = data.to(device), target.to(device)\n",
        "            output = model(data)\n",
        "            loss = criterion(output, target)\n",
        "            val_loss += loss.item()\n",
        "            _, predicted = torch.max(output, 1)\n",
        "            total += target.size(0)\n",
        "            correct += (predicted == target).sum().item()\n",
        "    val_loss /= len(val_loader)\n",
        "    val_acc = 100. * correct / total\n",
        "    return val_loss, val_acc\n"
      ],
      "metadata": {
        "id": "sSfdTOl9MCDN"
      },
      "execution_count": 34,
      "outputs": []
    },
    {
      "cell_type": "code",
      "source": [
        "# Train the model and capture losses and accuracies + mixup\n",
        "train_losses, val_losses, train_accuracies, val_accuracies = train_model_with_logging(model, train_loader, val_loader)\n"
      ],
      "metadata": {
        "id": "E5wyTy4eME04",
        "colab": {
          "base_uri": "https://localhost:8080/"
        },
        "outputId": "3bfa1fa8-549a-4755-d46e-85822d0f9a36"
      },
      "execution_count": 35,
      "outputs": [
        {
          "output_type": "stream",
          "name": "stdout",
          "text": [
            "Epoch [1/1000], Loss: 0.5295, Accuracy: 51.60%\n",
            "Validation Loss: 0.2645, Validation Accuracy: 92.86%\n",
            "Epoch [2/1000], Loss: 0.5246, Accuracy: 52.24%\n",
            "Validation Loss: 0.2589, Validation Accuracy: 92.74%\n",
            "Epoch [3/1000], Loss: 0.5856, Accuracy: 54.55%\n",
            "Validation Loss: 0.2624, Validation Accuracy: 92.99%\n",
            "Epoch [4/1000], Loss: 0.5472, Accuracy: 55.10%\n",
            "Validation Loss: 0.2603, Validation Accuracy: 92.70%\n",
            "Epoch [5/1000], Loss: 0.5488, Accuracy: 53.63%\n",
            "Validation Loss: 0.2690, Validation Accuracy: 92.74%\n",
            "Epoch [6/1000], Loss: 0.6288, Accuracy: 51.19%\n",
            "Validation Loss: 0.2680, Validation Accuracy: 93.03%\n",
            "Epoch [7/1000], Loss: 0.5571, Accuracy: 54.62%\n",
            "Validation Loss: 0.2672, Validation Accuracy: 92.61%\n",
            "Early stopping at epoch 7\n"
          ]
        }
      ]
    },
    {
      "cell_type": "code",
      "source": [
        "# Plotting the training and validation loss\n",
        "def plot_training_history(train_losses, val_losses, train_accuracies, val_accuracies):\n",
        "    epochs = range(1, len(train_losses) + 1)\n",
        "\n",
        "    plt.figure(figsize=(14, 5))\n",
        "\n",
        "    # Loss plot\n",
        "    plt.subplot(1, 2, 1)\n",
        "    plt.plot(epochs, train_losses, 'bo-', label='Training Loss')\n",
        "    plt.plot(epochs, val_losses, 'ro-', label='Validation Loss')\n",
        "    plt.title('Training and Validation Loss')\n",
        "    plt.xlabel('Epochs')\n",
        "    plt.ylabel('Loss')\n",
        "    plt.legend()\n",
        "\n",
        "    # Accuracy plot\n",
        "    plt.subplot(1, 2, 2)\n",
        "    plt.plot(epochs, train_accuracies, 'bo-', label='Training Accuracy')\n",
        "    plt.plot(epochs, val_accuracies, 'ro-', label='Validation Accuracy')\n",
        "    plt.title('Training and Validation Accuracy')\n",
        "    plt.xlabel('Epochs')\n",
        "    plt.ylabel('Accuracy (%)')\n",
        "    plt.legend()\n",
        "\n",
        "    plt.show()\n"
      ],
      "metadata": {
        "id": "DItEk6pNiL5n"
      },
      "execution_count": 36,
      "outputs": []
    },
    {
      "cell_type": "code",
      "source": [
        "# Call the function to plot the results\n",
        "plot_training_history(train_losses, val_losses, train_accuracies, val_accuracies)\n"
      ],
      "metadata": {
        "id": "p9g13fRAiOXH",
        "colab": {
          "base_uri": "https://localhost:8080/",
          "height": 426
        },
        "outputId": "ba4cdfd5-ec67-4ce2-f268-8b68cdbd8c47"
      },
      "execution_count": 37,
      "outputs": [
        {
          "output_type": "display_data",
          "data": {
            "text/plain": [
              "<Figure size 1400x500 with 2 Axes>"
            ],
            "image/png": "[encoded data removed]"
          },
          "metadata": {}
        }
      ]
    },
    {
      "cell_type": "code",
      "source": [
        "import torch.nn.functional as F\n",
        "\n",
        "# Predict and save results with probabilities\n",
        "def predict_and_save(test_dir, model, transform, output_csv='result_with_probs.csv'):\n",
        "    model.eval()\n",
        "    test_images = [f for f in os.listdir(test_dir) if f.endswith('.jpg')]\n",
        "    results = []\n",
        "    with torch.no_grad():\n",
        "        for img_name in test_images:\n",
        "            img_path = os.path.join(test_dir, img_name)\n",
        "            image = Image.open(img_path).convert(\"RGB\")\n",
        "            image = transform(image).unsqueeze(0).to(device)\n",
        "            output = model(image)  # Model output (logits)\n",
        "\n",
        "            # Apply Softmax to get probabilities\n",
        "            probabilities = F.softmax(output, dim=1)  # Convert logits to probabilities\n",
        "\n",
        "            # Get the predicted label and its probability\n",
        "            predicted_label = torch.argmax(probabilities, dim=1).item()\n",
        "            predicted_prob = torch.max(probabilities).item()  # Get the highest probability\n",
        "\n",
        "            # Append result with probability\n",
        "            results.append({\n",
        "                \"Image\": img_name,\n",
        "                \"Class\": predicted_label,\n",
        "                \"Probability\": predicted_prob\n",
        "            })\n",
        "\n",
        "    # Save results to CSV\n",
        "    pd.DataFrame(results).to_csv(output_csv, index=False)\n",
        "    print(f\"Results with probabilities saved to {output_csv}\")\n",
        "\n",
        "# Predict and save test results with probabilities\n",
        "test_dir = '/content/data/Test'\n",
        "predict_and_save(test_dir, model, get_transform(is_train=False))\n"
      ],
      "metadata": {
        "id": "IJllG31hMGc-",
        "colab": {
          "base_uri": "https://localhost:8080/"
        },
        "outputId": "db0ce339-acc0-49be-bd69-96f54b8f34bc"
      },
      "execution_count": 40,
      "outputs": [
        {
          "output_type": "stream",
          "name": "stdout",
          "text": [
            "Results with probabilities saved to result_with_probs.csv\n"
          ]
        }
      ]
    },
    {
      "cell_type": "code",
      "source": [
        "# Predict and save test results\n",
        "test_dir = '/content/data/Test'\n",
        "predict_and_save(test_dir, model, get_transform(is_train=False))"
      ],
      "metadata": {
        "id": "gLYzv_NgMP7X",
        "colab": {
          "base_uri": "https://localhost:8080/"
        },
        "outputId": "b41328c7-e5c5-4a6d-ba2e-c6a73ceaeb15"
      },
      "execution_count": 39,
      "outputs": [
        {
          "output_type": "stream",
          "name": "stdout",
          "text": [
            "Results saved to result.csv\n"
          ]
        }
      ]
    }
  ],
  "metadata": {
    "accelerator": "GPU",
    "colab": {
      "machine_shape": "hm",
      "provenance": [],
      "gpuType": "A100",
      "include_colab_link": true
    },
    "kernelspec": {
      "display_name": "Python 3",
      "name": "python3"
    },
    "language_info": {
      "name": "python"
    },
    "widgets": {
      "application/vnd.jupyter.widget-state+json": {
        "5224043efafd4851b419eb05685e711e": {
          "model_module": "@jupyter-widgets/controls",
          "model_name": "HBoxModel",
          "model_module_version": "1.5.0",
          "state": {
            "_dom_classes": [],
            "_model_module": "@jupyter-widgets/controls",
            "_model_module_version": "1.5.0",
            "_model_name": "HBoxModel",
            "_view_count": null,
            "_view_module": "@jupyter-widgets/controls",
            "_view_module_version": "1.5.0",
            "_view_name": "HBoxView",
            "box_style": "",
            "children": [
              "IPY_MODEL_2e2f35b6406d4d989435288296b399e7",
              "IPY_MODEL_41827b3d90014ca489df5fb7ce98abf8",
              "IPY_MODEL_804c3dffe0cc406389fe881e50d58d34"
            ],
            "layout": "IPY_MODEL_7c9325102c124d26b8c980ee3cca9c9e"
          }
        },
        "2e2f35b6406d4d989435288296b399e7": {
          "model_module": "@jupyter-widgets/controls",
          "model_name": "HTMLModel",
          "model_module_version": "1.5.0",
          "state": {
            "_dom_classes": [],
            "_model_module": "@jupyter-widgets/controls",
            "_model_module_version": "1.5.0",
            "_model_name": "HTMLModel",
            "_view_count": null,
            "_view_module": "@jupyter-widgets/controls",
            "_view_module_version": "1.5.0",
            "_view_name": "HTMLView",
            "description": "",
            "description_tooltip": null,
            "layout": "IPY_MODEL_c36978070f8a446bb661c0a79909651a",
            "placeholder": "​",
            "style": "IPY_MODEL_01fe57300cb845b684892e1b90bd44c8",
            "value": "config.json: 100%"
          }
        },
        "41827b3d90014ca489df5fb7ce98abf8": {
          "model_module": "@jupyter-widgets/controls",
          "model_name": "FloatProgressModel",
          "model_module_version": "1.5.0",
          "state": {
            "_dom_classes": [],
            "_model_module": "@jupyter-widgets/controls",
            "_model_module_version": "1.5.0",
            "_model_name": "FloatProgressModel",
            "_view_count": null,
            "_view_module": "@jupyter-widgets/controls",
            "_view_module_version": "1.5.0",
            "_view_name": "ProgressView",
            "bar_style": "success",
            "description": "",
            "description_tooltip": null,
            "layout": "IPY_MODEL_31c9114394f04cc594fe33605a5f8727",
            "max": 69640,
            "min": 0,
            "orientation": "horizontal",
            "style": "IPY_MODEL_90b325f356384d7c8edf8afeed91ea59",
            "value": 69640
          }
        },
        "804c3dffe0cc406389fe881e50d58d34": {
          "model_module": "@jupyter-widgets/controls",
          "model_name": "HTMLModel",
          "model_module_version": "1.5.0",
          "state": {
            "_dom_classes": [],
            "_model_module": "@jupyter-widgets/controls",
            "_model_module_version": "1.5.0",
            "_model_name": "HTMLModel",
            "_view_count": null,
            "_view_module": "@jupyter-widgets/controls",
            "_view_module_version": "1.5.0",
            "_view_name": "HTMLView",
            "description": "",
            "description_tooltip": null,
            "layout": "IPY_MODEL_2a0d1e33b5974098b6da323a27a50538",
            "placeholder": "​",
            "style": "IPY_MODEL_2320ee024ebf4d95a6d2a702e65d9908",
            "value": " 69.6k/69.6k [00:00&lt;00:00, 5.11MB/s]"
          }
        },
        "7c9325102c124d26b8c980ee3cca9c9e": {
          "model_module": "@jupyter-widgets/base",
          "model_name": "LayoutModel",
          "model_module_version": "1.2.0",
          "state": {
            "_model_module": "@jupyter-widgets/base",
            "_model_module_version": "1.2.0",
            "_model_name": "LayoutModel",
            "_view_count": null,
            "_view_module": "@jupyter-widgets/base",
            "_view_module_version": "1.2.0",
            "_view_name": "LayoutView",
            "align_content": null,
            "align_items": null,
            "align_self": null,
            "border": null,
            "bottom": null,
            "display": null,
            "flex": null,
            "flex_flow": null,
            "grid_area": null,
            "grid_auto_columns": null,
            "grid_auto_flow": null,
            "grid_auto_rows": null,
            "grid_column": null,
            "grid_gap": null,
            "grid_row": null,
            "grid_template_areas": null,
            "grid_template_columns": null,
            "grid_template_rows": null,
            "height": null,
            "justify_content": null,
            "justify_items": null,
            "left": null,
            "margin": null,
            "max_height": null,
            "max_width": null,
            "min_height": null,
            "min_width": null,
            "object_fit": null,
            "object_position": null,
            "order": null,
            "overflow": null,
            "overflow_x": null,
            "overflow_y": null,
            "padding": null,
            "right": null,
            "top": null,
            "visibility": null,
            "width": null
          }
        },
        "c36978070f8a446bb661c0a79909651a": {
          "model_module": "@jupyter-widgets/base",
          "model_name": "LayoutModel",
          "model_module_version": "1.2.0",
          "state": {
            "_model_module": "@jupyter-widgets/base",
            "_model_module_version": "1.2.0",
            "_model_name": "LayoutModel",
            "_view_count": null,
            "_view_module": "@jupyter-widgets/base",
            "_view_module_version": "1.2.0",
            "_view_name": "LayoutView",
            "align_content": null,
            "align_items": null,
            "align_self": null,
            "border": null,
            "bottom": null,
            "display": null,
            "flex": null,
            "flex_flow": null,
            "grid_area": null,
            "grid_auto_columns": null,
            "grid_auto_flow": null,
            "grid_auto_rows": null,
            "grid_column": null,
            "grid_gap": null,
            "grid_row": null,
            "grid_template_areas": null,
            "grid_template_columns": null,
            "grid_template_rows": null,
            "height": null,
            "justify_content": null,
            "justify_items": null,
            "left": null,
            "margin": null,
            "max_height": null,
            "max_width": null,
            "min_height": null,
            "min_width": null,
            "object_fit": null,
            "object_position": null,
            "order": null,
            "overflow": null,
            "overflow_x": null,
            "overflow_y": null,
            "padding": null,
            "right": null,
            "top": null,
            "visibility": null,
            "width": null
          }
        },
        "01fe57300cb845b684892e1b90bd44c8": {
          "model_module": "@jupyter-widgets/controls",
          "model_name": "DescriptionStyleModel",
          "model_module_version": "1.5.0",
          "state": {
            "_model_module": "@jupyter-widgets/controls",
            "_model_module_version": "1.5.0",
            "_model_name": "DescriptionStyleModel",
            "_view_count": null,
            "_view_module": "@jupyter-widgets/base",
            "_view_module_version": "1.2.0",
            "_view_name": "StyleView",
            "description_width": ""
          }
        },
        "31c9114394f04cc594fe33605a5f8727": {
          "model_module": "@jupyter-widgets/base",
          "model_name": "LayoutModel",
          "model_module_version": "1.2.0",
          "state": {
            "_model_module": "@jupyter-widgets/base",
            "_model_module_version": "1.2.0",
            "_model_name": "LayoutModel",
            "_view_count": null,
            "_view_module": "@jupyter-widgets/base",
            "_view_module_version": "1.2.0",
            "_view_name": "LayoutView",
            "align_content": null,
            "align_items": null,
            "align_self": null,
            "border": null,
            "bottom": null,
            "display": null,
            "flex": null,
            "flex_flow": null,
            "grid_area": null,
            "grid_auto_columns": null,
            "grid_auto_flow": null,
            "grid_auto_rows": null,
            "grid_column": null,
            "grid_gap": null,
            "grid_row": null,
            "grid_template_areas": null,
            "grid_template_columns": null,
            "grid_template_rows": null,
            "height": null,
            "justify_content": null,
            "justify_items": null,
            "left": null,
            "margin": null,
            "max_height": null,
            "max_width": null,
            "min_height": null,
            "min_width": null,
            "object_fit": null,
            "object_position": null,
            "order": null,
            "overflow": null,
            "overflow_x": null,
            "overflow_y": null,
            "padding": null,
            "right": null,
            "top": null,
            "visibility": null,
            "width": null
          }
        },
        "90b325f356384d7c8edf8afeed91ea59": {
          "model_module": "@jupyter-widgets/controls",
          "model_name": "ProgressStyleModel",
          "model_module_version": "1.5.0",
          "state": {
            "_model_module": "@jupyter-widgets/controls",
            "_model_module_version": "1.5.0",
            "_model_name": "ProgressStyleModel",
            "_view_count": null,
            "_view_module": "@jupyter-widgets/base",
            "_view_module_version": "1.2.0",
            "_view_name": "StyleView",
            "bar_color": null,
            "description_width": ""
          }
        },
        "2a0d1e33b5974098b6da323a27a50538": {
          "model_module": "@jupyter-widgets/base",
          "model_name": "LayoutModel",
          "model_module_version": "1.2.0",
          "state": {
            "_model_module": "@jupyter-widgets/base",
            "_model_module_version": "1.2.0",
            "_model_name": "LayoutModel",
            "_view_count": null,
            "_view_module": "@jupyter-widgets/base",
            "_view_module_version": "1.2.0",
            "_view_name": "LayoutView",
            "align_content": null,
            "align_items": null,
            "align_self": null,
            "border": null,
            "bottom": null,
            "display": null,
            "flex": null,
            "flex_flow": null,
            "grid_area": null,
            "grid_auto_columns": null,
            "grid_auto_flow": null,
            "grid_auto_rows": null,
            "grid_column": null,
            "grid_gap": null,
            "grid_row": null,
            "grid_template_areas": null,
            "grid_template_columns": null,
            "grid_template_rows": null,
            "height": null,
            "justify_content": null,
            "justify_items": null,
            "left": null,
            "margin": null,
            "max_height": null,
            "max_width": null,
            "min_height": null,
            "min_width": null,
            "object_fit": null,
            "object_position": null,
            "order": null,
            "overflow": null,
            "overflow_x": null,
            "overflow_y": null,
            "padding": null,
            "right": null,
            "top": null,
            "visibility": null,
            "width": null
          }
        },
        "2320ee024ebf4d95a6d2a702e65d9908": {
          "model_module": "@jupyter-widgets/controls",
          "model_name": "DescriptionStyleModel",
          "model_module_version": "1.5.0",
          "state": {
            "_model_module": "@jupyter-widgets/controls",
            "_model_module_version": "1.5.0",
            "_model_name": "DescriptionStyleModel",
            "_view_count": null,
            "_view_module": "@jupyter-widgets/base",
            "_view_module_version": "1.2.0",
            "_view_name": "StyleView",
            "description_width": ""
          }
        },
        "b3d0f9f9992e43b99c9f9ef7c72d5e4c": {
          "model_module": "@jupyter-widgets/controls",
          "model_name": "HBoxModel",
          "model_module_version": "1.5.0",
          "state": {
            "_dom_classes": [],
            "_model_module": "@jupyter-widgets/controls",
            "_model_module_version": "1.5.0",
            "_model_name": "HBoxModel",
            "_view_count": null,
            "_view_module": "@jupyter-widgets/controls",
            "_view_module_version": "1.5.0",
            "_view_name": "HBoxView",
            "box_style": "",
            "children": [
              "IPY_MODEL_2e5f6fb548da4385ad7373a581ca8214",
              "IPY_MODEL_0a29cac89725450882a11459052fb6bc",
              "IPY_MODEL_3abeec9e707e43d9adf0a5fd028b3715"
            ],
            "layout": "IPY_MODEL_a5992e39f90a40899fc06e7d75f3b080"
          }
        },
        "2e5f6fb548da4385ad7373a581ca8214": {
          "model_module": "@jupyter-widgets/controls",
          "model_name": "HTMLModel",
          "model_module_version": "1.5.0",
          "state": {
            "_dom_classes": [],
            "_model_module": "@jupyter-widgets/controls",
            "_model_module_version": "1.5.0",
            "_model_name": "HTMLModel",
            "_view_count": null,
            "_view_module": "@jupyter-widgets/controls",
            "_view_module_version": "1.5.0",
            "_view_name": "HTMLView",
            "description": "",
            "description_tooltip": null,
            "layout": "IPY_MODEL_2a9893de61bd4550a61b9b21304f206d",
            "placeholder": "​",
            "style": "IPY_MODEL_f3f5eca8b23441a4891f9407f19530df",
            "value": "pytorch_model.bin: 100%"
          }
        },
        "0a29cac89725450882a11459052fb6bc": {
          "model_module": "@jupyter-widgets/controls",
          "model_name": "FloatProgressModel",
          "model_module_version": "1.5.0",
          "state": {
            "_dom_classes": [],
            "_model_module": "@jupyter-widgets/controls",
            "_model_module_version": "1.5.0",
            "_model_name": "FloatProgressModel",
            "_view_count": null,
            "_view_module": "@jupyter-widgets/controls",
            "_view_module_version": "1.5.0",
            "_view_name": "ProgressView",
            "bar_style": "success",
            "description": "",
            "description_tooltip": null,
            "layout": "IPY_MODEL_cb665be5809b4c3080004c466e89c35f",
            "max": 114423189,
            "min": 0,
            "orientation": "horizontal",
            "style": "IPY_MODEL_5cc7f56b58eb47239c2d44d0b87eb691",
            "value": 114423189
          }
        },
        "3abeec9e707e43d9adf0a5fd028b3715": {
          "model_module": "@jupyter-widgets/controls",
          "model_name": "HTMLModel",
          "model_module_version": "1.5.0",
          "state": {
            "_dom_classes": [],
            "_model_module": "@jupyter-widgets/controls",
            "_model_module_version": "1.5.0",
            "_model_name": "HTMLModel",
            "_view_count": null,
            "_view_module": "@jupyter-widgets/controls",
            "_view_module_version": "1.5.0",
            "_view_name": "HTMLView",
            "description": "",
            "description_tooltip": null,
            "layout": "IPY_MODEL_db433bf15f9742eb8348f53dc3f36bf6",
            "placeholder": "​",
            "style": "IPY_MODEL_5c92f8d17f3c423ca95c46cfce709595",
            "value": " 114M/114M [00:00&lt;00:00, 242MB/s]"
          }
        },
        "a5992e39f90a40899fc06e7d75f3b080": {
          "model_module": "@jupyter-widgets/base",
          "model_name": "LayoutModel",
          "model_module_version": "1.2.0",
          "state": {
            "_model_module": "@jupyter-widgets/base",
            "_model_module_version": "1.2.0",
            "_model_name": "LayoutModel",
            "_view_count": null,
            "_view_module": "@jupyter-widgets/base",
            "_view_module_version": "1.2.0",
            "_view_name": "LayoutView",
            "align_content": null,
            "align_items": null,
            "align_self": null,
            "border": null,
            "bottom": null,
            "display": null,
            "flex": null,
            "flex_flow": null,
            "grid_area": null,
            "grid_auto_columns": null,
            "grid_auto_flow": null,
            "grid_auto_rows": null,
            "grid_column": null,
            "grid_gap": null,
            "grid_row": null,
            "grid_template_areas": null,
            "grid_template_columns": null,
            "grid_template_rows": null,
            "height": null,
            "justify_content": null,
            "justify_items": null,
            "left": null,
            "margin": null,
            "max_height": null,
            "max_width": null,
            "min_height": null,
            "min_width": null,
            "object_fit": null,
            "object_position": null,
            "order": null,
            "overflow": null,
            "overflow_x": null,
            "overflow_y": null,
            "padding": null,
            "right": null,
            "top": null,
            "visibility": null,
            "width": null
          }
        },
        "2a9893de61bd4550a61b9b21304f206d": {
          "model_module": "@jupyter-widgets/base",
          "model_name": "LayoutModel",
          "model_module_version": "1.2.0",
          "state": {
            "_model_module": "@jupyter-widgets/base",
            "_model_module_version": "1.2.0",
            "_model_name": "LayoutModel",
            "_view_count": null,
            "_view_module": "@jupyter-widgets/base",
            "_view_module_version": "1.2.0",
            "_view_name": "LayoutView",
            "align_content": null,
            "align_items": null,
            "align_self": null,
            "border": null,
            "bottom": null,
            "display": null,
            "flex": null,
            "flex_flow": null,
            "grid_area": null,
            "grid_auto_columns": null,
            "grid_auto_flow": null,
            "grid_auto_rows": null,
            "grid_column": null,
            "grid_gap": null,
            "grid_row": null,
            "grid_template_areas": null,
            "grid_template_columns": null,
            "grid_template_rows": null,
            "height": null,
            "justify_content": null,
            "justify_items": null,
            "left": null,
            "margin": null,
            "max_height": null,
            "max_width": null,
            "min_height": null,
            "min_width": null,
            "object_fit": null,
            "object_position": null,
            "order": null,
            "overflow": null,
            "overflow_x": null,
            "overflow_y": null,
            "padding": null,
            "right": null,
            "top": null,
            "visibility": null,
            "width": null
          }
        },
        "f3f5eca8b23441a4891f9407f19530df": {
          "model_module": "@jupyter-widgets/controls",
          "model_name": "DescriptionStyleModel",
          "model_module_version": "1.5.0",
          "state": {
            "_model_module": "@jupyter-widgets/controls",
            "_model_module_version": "1.5.0",
            "_model_name": "DescriptionStyleModel",
            "_view_count": null,
            "_view_module": "@jupyter-widgets/base",
            "_view_module_version": "1.2.0",
            "_view_name": "StyleView",
            "description_width": ""
          }
        },
        "cb665be5809b4c3080004c466e89c35f": {
          "model_module": "@jupyter-widgets/base",
          "model_name": "LayoutModel",
          "model_module_version": "1.2.0",
          "state": {
            "_model_module": "@jupyter-widgets/base",
            "_model_module_version": "1.2.0",
            "_model_name": "LayoutModel",
            "_view_count": null,
            "_view_module": "@jupyter-widgets/base",
            "_view_module_version": "1.2.0",
            "_view_name": "LayoutView",
            "align_content": null,
            "align_items": null,
            "align_self": null,
            "border": null,
            "bottom": null,
            "display": null,
            "flex": null,
            "flex_flow": null,
            "grid_area": null,
            "grid_auto_columns": null,
            "grid_auto_flow": null,
            "grid_auto_rows": null,
            "grid_column": null,
            "grid_gap": null,
            "grid_row": null,
            "grid_template_areas": null,
            "grid_template_columns": null,
            "grid_template_rows": null,
            "height": null,
            "justify_content": null,
            "justify_items": null,
            "left": null,
            "margin": null,
            "max_height": null,
            "max_width": null,
            "min_height": null,
            "min_width": null,
            "object_fit": null,
            "object_position": null,
            "order": null,
            "overflow": null,
            "overflow_x": null,
            "overflow_y": null,
            "padding": null,
            "right": null,
            "top": null,
            "visibility": null,
            "width": null
          }
        },
        "5cc7f56b58eb47239c2d44d0b87eb691": {
          "model_module": "@jupyter-widgets/controls",
          "model_name": "ProgressStyleModel",
          "model_module_version": "1.5.0",
          "state": {
            "_model_module": "@jupyter-widgets/controls",
            "_model_module_version": "1.5.0",
            "_model_name": "ProgressStyleModel",
            "_view_count": null,
            "_view_module": "@jupyter-widgets/base",
            "_view_module_version": "1.2.0",
            "_view_name": "StyleView",
            "bar_color": null,
            "description_width": ""
          }
        },
        "db433bf15f9742eb8348f53dc3f36bf6": {
          "model_module": "@jupyter-widgets/base",
          "model_name": "LayoutModel",
          "model_module_version": "1.2.0",
          "state": {
            "_model_module": "@jupyter-widgets/base",
            "_model_module_version": "1.2.0",
            "_model_name": "LayoutModel",
            "_view_count": null,
            "_view_module": "@jupyter-widgets/base",
            "_view_module_version": "1.2.0",
            "_view_name": "LayoutView",
            "align_content": null,
            "align_items": null,
            "align_self": null,
            "border": null,
            "bottom": null,
            "display": null,
            "flex": null,
            "flex_flow": null,
            "grid_area": null,
            "grid_auto_columns": null,
            "grid_auto_flow": null,
            "grid_auto_rows": null,
            "grid_column": null,
            "grid_gap": null,
            "grid_row": null,
            "grid_template_areas": null,
            "grid_template_columns": null,
            "grid_template_rows": null,
            "height": null,
            "justify_content": null,
            "justify_items": null,
            "left": null,
            "margin": null,
            "max_height": null,
            "max_width": null,
            "min_height": null,
            "min_width": null,
            "object_fit": null,
            "object_position": null,
            "order": null,
            "overflow": null,
            "overflow_x": null,
            "overflow_y": null,
            "padding": null,
            "right": null,
            "top": null,
            "visibility": null,
            "width": null
          }
        },
        "5c92f8d17f3c423ca95c46cfce709595": {
          "model_module": "@jupyter-widgets/controls",
          "model_name": "DescriptionStyleModel",
          "model_module_version": "1.5.0",
          "state": {
            "_model_module": "@jupyter-widgets/controls",
            "_model_module_version": "1.5.0",
            "_model_name": "DescriptionStyleModel",
            "_view_count": null,
            "_view_module": "@jupyter-widgets/base",
            "_view_module_version": "1.2.0",
            "_view_name": "StyleView",
            "description_width": ""
          }
        },
        "bbe4394a491e43368c89070c8e099a75": {
          "model_module": "@jupyter-widgets/controls",
          "model_name": "HBoxModel",
          "model_module_version": "1.5.0",
          "state": {
            "_dom_classes": [],
            "_model_module": "@jupyter-widgets/controls",
            "_model_module_version": "1.5.0",
            "_model_name": "HBoxModel",
            "_view_count": null,
            "_view_module": "@jupyter-widgets/controls",
            "_view_module_version": "1.5.0",
            "_view_name": "HBoxView",
            "box_style": "",
            "children": [
              "IPY_MODEL_b21ea0388a3a4673b6bc94e67050b736",
              "IPY_MODEL_0e2d5707a3b3455594c9d3cb9a1ba212",
              "IPY_MODEL_915ed6cd34ce4753b247e003778084c5"
            ],
            "layout": "IPY_MODEL_eb3b51ccaa9341e8afcaf0d670aaa8c3"
          }
        },
        "b21ea0388a3a4673b6bc94e67050b736": {
          "model_module": "@jupyter-widgets/controls",
          "model_name": "HTMLModel",
          "model_module_version": "1.5.0",
          "state": {
            "_dom_classes": [],
            "_model_module": "@jupyter-widgets/controls",
            "_model_module_version": "1.5.0",
            "_model_name": "HTMLModel",
            "_view_count": null,
            "_view_module": "@jupyter-widgets/controls",
            "_view_module_version": "1.5.0",
            "_view_name": "HTMLView",
            "description": "",
            "description_tooltip": null,
            "layout": "IPY_MODEL_a37cf3c8275040cdb8bfc74f5c957381",
            "placeholder": "​",
            "style": "IPY_MODEL_d539319d67ce4220984f6cf33e018fb0",
            "value": "preprocessor_config.json: 100%"
          }
        },
        "0e2d5707a3b3455594c9d3cb9a1ba212": {
          "model_module": "@jupyter-widgets/controls",
          "model_name": "FloatProgressModel",
          "model_module_version": "1.5.0",
          "state": {
            "_dom_classes": [],
            "_model_module": "@jupyter-widgets/controls",
            "_model_module_version": "1.5.0",
            "_model_name": "FloatProgressModel",
            "_view_count": null,
            "_view_module": "@jupyter-widgets/controls",
            "_view_module_version": "1.5.0",
            "_view_name": "ProgressView",
            "bar_style": "success",
            "description": "",
            "description_tooltip": null,
            "layout": "IPY_MODEL_6d07581f9f3b497f82e157692cf656f3",
            "max": 266,
            "min": 0,
            "orientation": "horizontal",
            "style": "IPY_MODEL_ad66f368e82d427e875f27239e66b7de",
            "value": 266
          }
        },
        "915ed6cd34ce4753b247e003778084c5": {
          "model_module": "@jupyter-widgets/controls",
          "model_name": "HTMLModel",
          "model_module_version": "1.5.0",
          "state": {
            "_dom_classes": [],
            "_model_module": "@jupyter-widgets/controls",
            "_model_module_version": "1.5.0",
            "_model_name": "HTMLModel",
            "_view_count": null,
            "_view_module": "@jupyter-widgets/controls",
            "_view_module_version": "1.5.0",
            "_view_name": "HTMLView",
            "description": "",
            "description_tooltip": null,
            "layout": "IPY_MODEL_358a160133354916b79fa875117160d3",
            "placeholder": "​",
            "style": "IPY_MODEL_14ed8a778e604765a22946a4b35e43ce",
            "value": " 266/266 [00:00&lt;00:00, 22.5kB/s]"
          }
        },
        "eb3b51ccaa9341e8afcaf0d670aaa8c3": {
          "model_module": "@jupyter-widgets/base",
          "model_name": "LayoutModel",
          "model_module_version": "1.2.0",
          "state": {
            "_model_module": "@jupyter-widgets/base",
            "_model_module_version": "1.2.0",
            "_model_name": "LayoutModel",
            "_view_count": null,
            "_view_module": "@jupyter-widgets/base",
            "_view_module_version": "1.2.0",
            "_view_name": "LayoutView",
            "align_content": null,
            "align_items": null,
            "align_self": null,
            "border": null,
            "bottom": null,
            "display": null,
            "flex": null,
            "flex_flow": null,
            "grid_area": null,
            "grid_auto_columns": null,
            "grid_auto_flow": null,
            "grid_auto_rows": null,
            "grid_column": null,
            "grid_gap": null,
            "grid_row": null,
            "grid_template_areas": null,
            "grid_template_columns": null,
            "grid_template_rows": null,
            "height": null,
            "justify_content": null,
            "justify_items": null,
            "left": null,
            "margin": null,
            "max_height": null,
            "max_width": null,
            "min_height": null,
            "min_width": null,
            "object_fit": null,
            "object_position": null,
            "order": null,
            "overflow": null,
            "overflow_x": null,
            "overflow_y": null,
            "padding": null,
            "right": null,
            "top": null,
            "visibility": null,
            "width": null
          }
        },
        "a37cf3c8275040cdb8bfc74f5c957381": {
          "model_module": "@jupyter-widgets/base",
          "model_name": "LayoutModel",
          "model_module_version": "1.2.0",
          "state": {
            "_model_module": "@jupyter-widgets/base",
            "_model_module_version": "1.2.0",
            "_model_name": "LayoutModel",
            "_view_count": null,
            "_view_module": "@jupyter-widgets/base",
            "_view_module_version": "1.2.0",
            "_view_name": "LayoutView",
            "align_content": null,
            "align_items": null,
            "align_self": null,
            "border": null,
            "bottom": null,
            "display": null,
            "flex": null,
            "flex_flow": null,
            "grid_area": null,
            "grid_auto_columns": null,
            "grid_auto_flow": null,
            "grid_auto_rows": null,
            "grid_column": null,
            "grid_gap": null,
            "grid_row": null,
            "grid_template_areas": null,
            "grid_template_columns": null,
            "grid_template_rows": null,
            "height": null,
            "justify_content": null,
            "justify_items": null,
            "left": null,
            "margin": null,
            "max_height": null,
            "max_width": null,
            "min_height": null,
            "min_width": null,
            "object_fit": null,
            "object_position": null,
            "order": null,
            "overflow": null,
            "overflow_x": null,
            "overflow_y": null,
            "padding": null,
            "right": null,
            "top": null,
            "visibility": null,
            "width": null
          }
        },
        "d539319d67ce4220984f6cf33e018fb0": {
          "model_module": "@jupyter-widgets/controls",
          "model_name": "DescriptionStyleModel",
          "model_module_version": "1.5.0",
          "state": {
            "_model_module": "@jupyter-widgets/controls",
            "_model_module_version": "1.5.0",
            "_model_name": "DescriptionStyleModel",
            "_view_count": null,
            "_view_module": "@jupyter-widgets/base",
            "_view_module_version": "1.2.0",
            "_view_name": "StyleView",
            "description_width": ""
          }
        },
        "6d07581f9f3b497f82e157692cf656f3": {
          "model_module": "@jupyter-widgets/base",
          "model_name": "LayoutModel",
          "model_module_version": "1.2.0",
          "state": {
            "_model_module": "@jupyter-widgets/base",
            "_model_module_version": "1.2.0",
            "_model_name": "LayoutModel",
            "_view_count": null,
            "_view_module": "@jupyter-widgets/base",
            "_view_module_version": "1.2.0",
            "_view_name": "LayoutView",
            "align_content": null,
            "align_items": null,
            "align_self": null,
            "border": null,
            "bottom": null,
            "display": null,
            "flex": null,
            "flex_flow": null,
            "grid_area": null,
            "grid_auto_columns": null,
            "grid_auto_flow": null,
            "grid_auto_rows": null,
            "grid_column": null,
            "grid_gap": null,
            "grid_row": null,
            "grid_template_areas": null,
            "grid_template_columns": null,
            "grid_template_rows": null,
            "height": null,
            "justify_content": null,
            "justify_items": null,
            "left": null,
            "margin": null,
            "max_height": null,
            "max_width": null,
            "min_height": null,
            "min_width": null,
            "object_fit": null,
            "object_position": null,
            "order": null,
            "overflow": null,
            "overflow_x": null,
            "overflow_y": null,
            "padding": null,
            "right": null,
            "top": null,
            "visibility": null,
            "width": null
          }
        },
        "ad66f368e82d427e875f27239e66b7de": {
          "model_module": "@jupyter-widgets/controls",
          "model_name": "ProgressStyleModel",
          "model_module_version": "1.5.0",
          "state": {
            "_model_module": "@jupyter-widgets/controls",
            "_model_module_version": "1.5.0",
            "_model_name": "ProgressStyleModel",
            "_view_count": null,
            "_view_module": "@jupyter-widgets/base",
            "_view_module_version": "1.2.0",
            "_view_name": "StyleView",
            "bar_color": null,
            "description_width": ""
          }
        },
        "358a160133354916b79fa875117160d3": {
          "model_module": "@jupyter-widgets/base",
          "model_name": "LayoutModel",
          "model_module_version": "1.2.0",
          "state": {
            "_model_module": "@jupyter-widgets/base",
            "_model_module_version": "1.2.0",
            "_model_name": "LayoutModel",
            "_view_count": null,
            "_view_module": "@jupyter-widgets/base",
            "_view_module_version": "1.2.0",
            "_view_name": "LayoutView",
            "align_content": null,
            "align_items": null,
            "align_self": null,
            "border": null,
            "bottom": null,
            "display": null,
            "flex": null,
            "flex_flow": null,
            "grid_area": null,
            "grid_auto_columns": null,
            "grid_auto_flow": null,
            "grid_auto_rows": null,
            "grid_column": null,
            "grid_gap": null,
            "grid_row": null,
            "grid_template_areas": null,
            "grid_template_columns": null,
            "grid_template_rows": null,
            "height": null,
            "justify_content": null,
            "justify_items": null,
            "left": null,
            "margin": null,
            "max_height": null,
            "max_width": null,
            "min_height": null,
            "min_width": null,
            "object_fit": null,
            "object_position": null,
            "order": null,
            "overflow": null,
            "overflow_x": null,
            "overflow_y": null,
            "padding": null,
            "right": null,
            "top": null,
            "visibility": null,
            "width": null
          }
        },
        "14ed8a778e604765a22946a4b35e43ce": {
          "model_module": "@jupyter-widgets/controls",
          "model_name": "DescriptionStyleModel",
          "model_module_version": "1.5.0",
          "state": {
            "_model_module": "@jupyter-widgets/controls",
            "_model_module_version": "1.5.0",
            "_model_name": "DescriptionStyleModel",
            "_view_count": null,
            "_view_module": "@jupyter-widgets/base",
            "_view_module_version": "1.2.0",
            "_view_name": "StyleView",
            "description_width": ""
          }
        }
      }
    }
  },
  "nbformat": 4,
  "nbformat_minor": 0
}